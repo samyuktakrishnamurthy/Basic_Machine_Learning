{
 "cells": [
  {
   "cell_type": "code",
   "execution_count": 1,
   "metadata": {},
   "outputs": [
    {
     "name": "stdout",
     "output_type": "stream",
     "text": [
      "Welcome to JupyROOT 6.12/06\n"
     ]
    }
   ],
   "source": [
    "from numpy.lib.recfunctions import stack_arrays\n",
    "from root_numpy import root2array, root2rec\n",
    "import glob\n",
    "import root_numpy\n",
    "import uproot\n",
    "import pandas as pd\n",
    "from pandas import HDFStore"
   ]
  },
  {
   "cell_type": "code",
   "execution_count": 2,
   "metadata": {},
   "outputs": [
    {
     "name": "stderr",
     "output_type": "stream",
     "text": [
      "/opt/rh/rh-python36/root/usr/lib64/python3.6/site-packages/root_numpy/_tree.py:241: RuntimeWarning: ignoring duplicate branch named 'phi'\n",
      "  warn_missing_tree)\n",
      "/opt/rh/rh-python36/root/usr/lib64/python3.6/site-packages/root_numpy/_tree.py:241: RuntimeWarning: ignoring duplicate branch named 'n_jets'\n",
      "  warn_missing_tree)\n"
     ]
    }
   ],
   "source": [
    "#get your root minitrees\n",
    "honly =  root2array('mc16ae_ggHZZ_Honly_NN_var.root')\n",
    "#qqZZ = root2array ('mc16a_qqZZ_NN_var_temp.root')\n",
    "ggZZ = root2array('mc16a_ggZZ_bkg_NN_var.root')"
   ]
  },
  {
   "cell_type": "code",
   "execution_count": 3,
   "metadata": {},
   "outputs": [],
   "source": [
    "#use uproot to get the TTrees\n",
    "file_sig = uproot.open(\"mc16ae_ggHZZ_Honly_NN_var.root\")\n",
    "#file_bkg1 = uproot.open(\"ggZZ_NN_var.root\")\n",
    "file_bkg = uproot.open(\"mc16a_ggZZ_bkg_NN_var.root\")\n",
    "tree_sig =file_sig[\"tree_incl_all\"]\n",
    "#tree_bkg1 =file_bkg1[\"tree_incl_all\"]\n",
    "tree_bkg =file_bkg[\"tree_incl_all\"]"
   ]
  },
  {
   "cell_type": "code",
   "execution_count": 4,
   "metadata": {},
   "outputs": [],
   "source": [
    "#Convert them to pandas dataframes\n",
    "#df_sig = tree_sig.pandas.df([\"lepton_eta\",\"lepton_pt\",\"lepton_phi\",\"lepton_m\", \"n_jets\",\"ggZZ_ME_0j\",\"ggZZ_ME_1j\",\"ggHZZ_ME_0j\",\"ggHZZ_ME_1j\",\"qqZZ_ME_0j\",\"qqZZ_ME_1j\", \"m4l_unconstrained\", \"cos_theta_str\",\"cos_theta_1\",\"pt4l_fsr\",\"phi\",\"phi_1\",\"Z1_m\",\"Z2_m\"])\n",
    "#df_bkg1 = tree_bkg1.pandas.df([\"lepton_eta\",\"lepton_pt\",\"lepton_phi\",\"lepton_m\", \"n_jets\",\"ggZZ_ME_0j\",\"ggZZ_ME_1j\",\"ggHZZ_ME_0j\",\"ggHZZ_ME_1j\", \"m4l_unconstrained\", \"cos_theta_str\",\"cos_theta_1\",\"fsr_pt\",\"phi\",\"phi_1\",\"Z1_m\",\"Z2_m\"])\n",
    "#df_bkg2 = tree_bkg2.pandas.df([\"lepton_eta\",\"lepton_pt\",\"lepton_phi\",\"lepton_m\", \"n_jets\",\"ggZZ_ME_0j\",\"ggZZ_ME_1j\",\"ggHZZ_ME_0j\",\"ggHZZ_ME_1j\", \"qqZZ_ME_0j\",\"qqZZ_ME_1j\", \"m4l_unconstrained\", \"cos_theta_str\",\"cos_theta_1\",\"pt4l_fsr\",\"phi\",\"phi_1\",\"Z1_m\",\"Z2_m\"])\n",
    "\n",
    "df_sig = tree_sig.pandas.df([\"n_jets\",\"ggZZ_ME_0j\",\"ggZZ_ME_1j\",\"ggHZZ_ME_0j\",\"ggHZZ_ME_1j\",\"qqZZ_ME_0j\",\"qqZZ_ME_1j\", \"m4l_unconstrained\", \"cos_theta_str\",\"cos_theta_1\",\"pt4l_fsr\",\"phi\",\"phi_1\",\"Z1_m\",\"Z2_m\",\"weight\"])\n",
    "df_bkg = tree_bkg.pandas.df([\"n_jets\",\"ggZZ_ME_0j\",\"ggZZ_ME_1j\",\"ggHZZ_ME_0j\",\"ggHZZ_ME_1j\", \"qqZZ_ME_0j\",\"qqZZ_ME_1j\", \"m4l_unconstrained\", \"cos_theta_str\",\"cos_theta_1\",\"pt4l_fsr\",\"phi\",\"phi_1\",\"Z1_m\",\"Z2_m\",\"weight\"])\n",
    "#df_bkg2 = tree_bkg2.pandas.df([\"n_jets\",\"ggZZ_ME_0j\",\"ggZZ_ME_1j\",\"ggHZZ_ME_0j\",\"ggHZZ_ME_1j\", \"qqZZ_ME_0j\",\"qqZZ_ME_1j\", \"m4l_unconstrained\", \"cos_theta_str\",\"cos_theta_1\",\"pt4l_fsr\",\"phi\",\"phi_1\",\"Z1_m\",\"Z2_m\",\"weight\"])\n"
   ]
  },
  {
   "cell_type": "code",
   "execution_count": 5,
   "metadata": {},
   "outputs": [],
   "source": [
    "#store the dataframes\n",
    "df_sig.to_hdf('mc16ae_Honly_sig_NN_var.h5', key='df_sig')\n",
    "#df_bkg1.to_hdf('ggZZ_bkg_NN_var.h5', key='df_bkg1')\n",
    "df_bkg.to_hdf('mc16a_ggZZ_bkg_NN_var.h5', key='df_bkg')"
   ]
  },
  {
   "cell_type": "code",
   "execution_count": null,
   "metadata": {},
   "outputs": [],
   "source": []
  }
 ],
 "metadata": {
  "kernelspec": {
   "display_name": "py3-w-ROOT",
   "language": "python",
   "name": "slac_stack"
  },
  "language_info": {
   "codemirror_mode": {
    "name": "ipython",
    "version": 3
   },
   "file_extension": ".py",
   "mimetype": "text/x-python",
   "name": "python",
   "nbconvert_exporter": "python",
   "pygments_lexer": "ipython3",
   "version": "3.6.3"
  }
 },
 "nbformat": 4,
 "nbformat_minor": 2
}
