{
 "cells": [
  {
   "cell_type": "code",
   "execution_count": 1,
   "metadata": {},
   "outputs": [],
   "source": [
    "import numpy as np\n",
    "import matplotlib\n",
    "import matplotlib.pyplot as plt\n",
    "import pandas as pd\n",
    "from sklearn.model_selection import train_test_split\n",
    "%matplotlib inline"
   ]
  },
  {
   "cell_type": "code",
   "execution_count": 2,
   "metadata": {},
   "outputs": [],
   "source": [
    "# Get the required files\n",
    "df_sig = pd.read_hdf('Honly_sig_NN_var.h5', 'df_sig')\n",
    "df_bkg2 = pd.read_hdf('qqZZ_bkg_NN_var.h5','df_bkg2')\n",
    "#get 1 jet events\n",
    "df_sig1j = df_sig[df_sig['n_jets']==1]\n",
    "df_bkg21j = df_bkg2[df_bkg2['n_jets']==1]"
   ]
  },
  {
   "cell_type": "code",
   "execution_count": 3,
   "metadata": {},
   "outputs": [],
   "source": [
    "# names of event-level branches\n",
    "npart = [\"ggZZ_ME_0j\",\"ggHZZ_ME_0j\",\"qqZZ_ME_0j\",\"m4l_unconstrained\",\"cos_theta_str\",\"cos_theta_1\",\"pt4l_fsr\",\"phi\",\"phi_1\",\"Z1_m\",\"Z2_m\",\"n_jets\"]"
   ]
  },
  {
   "cell_type": "code",
   "execution_count": 4,
   "metadata": {},
   "outputs": [],
   "source": [
    "df= pd.concat((df_sig[npart], df_bkg2[npart]), ignore_index=True)\n",
    "#df.head()"
   ]
  },
  {
   "cell_type": "code",
   "execution_count": 5,
   "metadata": {},
   "outputs": [
    {
     "name": "stderr",
     "output_type": "stream",
     "text": [
      "/opt/rh/rh-python36/root/usr/lib/python3.6/site-packages/ipykernel/__main__.py:1: FutureWarning: Method .as_matrix will be removed in a future version. Use .values instead.\n",
      "  if __name__ == '__main__':\n"
     ]
    }
   ],
   "source": [
    "X = df.as_matrix()"
   ]
  },
  {
   "cell_type": "code",
   "execution_count": 6,
   "metadata": {},
   "outputs": [],
   "source": [
    "w =  pd.concat((df_sig['weight'], df_bkg2['weight']), ignore_index=True).values"
   ]
  },
  {
   "cell_type": "code",
   "execution_count": 7,
   "metadata": {},
   "outputs": [
    {
     "data": {
      "text/plain": [
       "numpy.ndarray"
      ]
     },
     "execution_count": 7,
     "metadata": {},
     "output_type": "execute_result"
    }
   ],
   "source": [
    "type(w)"
   ]
  },
  {
   "cell_type": "code",
   "execution_count": 8,
   "metadata": {},
   "outputs": [],
   "source": [
    "y = []\n",
    "for _df, ID in [(df_sig, 0), (df_bkg2, 1)]:\n",
    "    y.extend([ID] * _df.shape[0])\n",
    "y = np.array(y)"
   ]
  },
  {
   "cell_type": "code",
   "execution_count": 9,
   "metadata": {},
   "outputs": [
    {
     "data": {
      "text/plain": [
       "array([0, 0, 0, ..., 1, 1, 1])"
      ]
     },
     "execution_count": 9,
     "metadata": {},
     "output_type": "execute_result"
    }
   ],
   "source": [
    "y"
   ]
  },
  {
   "cell_type": "code",
   "execution_count": 10,
   "metadata": {},
   "outputs": [
    {
     "name": "stderr",
     "output_type": "stream",
     "text": [
      "/opt/rh/rh-python36/root/usr/lib64/python3.6/site-packages/sklearn/model_selection/_split.py:2179: FutureWarning: From version 0.21, test_size will always complement train_size unless both are specified.\n",
      "  FutureWarning)\n"
     ]
    }
   ],
   "source": [
    "ix = range(X.shape[0])\n",
    "X_train, X_test, y_train, y_test, w_train, w_test, ix_train, ix_test = train_test_split(X, y, w, ix, train_size=0.6)"
   ]
  },
  {
   "cell_type": "code",
   "execution_count": 11,
   "metadata": {},
   "outputs": [],
   "source": [
    "from sklearn.preprocessing import StandardScaler\n",
    "scaler = StandardScaler()\n",
    "X_train = scaler.fit_transform(X_train)\n",
    "X_test = scaler.transform(X_test)"
   ]
  },
  {
   "cell_type": "code",
   "execution_count": 12,
   "metadata": {},
   "outputs": [],
   "source": [
    "from keras.models import Model\n",
    "from keras.layers import Dense, Dropout, Input"
   ]
  },
  {
   "cell_type": "code",
   "execution_count": 13,
   "metadata": {},
   "outputs": [
    {
     "name": "stdout",
     "output_type": "stream",
     "text": [
      "WARNING:tensorflow:From /opt/rh/rh-python36/root/usr/lib/python3.6/site-packages/tensorflow/python/framework/op_def_library.py:263: colocate_with (from tensorflow.python.framework.ops) is deprecated and will be removed in a future version.\n",
      "Instructions for updating:\n",
      "Colocations handled automatically by placer.\n",
      "WARNING:tensorflow:From /opt/rh/rh-python36/root/usr/lib64/python3.6/site-packages/keras/backend/tensorflow_backend.py:3445: calling dropout (from tensorflow.python.ops.nn_ops) with keep_prob is deprecated and will be removed in a future version.\n",
      "Instructions for updating:\n",
      "Please use `rate` instead of `keep_prob`. Rate should be set to `rate = 1 - keep_prob`.\n"
     ]
    }
   ],
   "source": [
    "inputs = Input(shape=(X_train.shape[1], )) # placeholder\n",
    "\n",
    "hidden = Dense(10, activation='relu')(inputs)\n",
    "hidden = Dropout(0.2)(hidden)\n",
    "#hidden = Dense(20, activation='relu')(hidden)\n",
    "#hidden = Dropout(0.2)(hidden)\n",
    "#hidden = Dense(30, activation='relu')(hidden)\n",
    "#hidden = Dropout(0.2)(hidden)\n",
    "outputs = Dense(2, activation='softmax')(hidden)\n",
    "# last layer has to have the same dimensionality as the number of classes we want to predict, here 3\n",
    "\n",
    "model = Model(inputs, outputs)"
   ]
  },
  {
   "cell_type": "code",
   "execution_count": 14,
   "metadata": {},
   "outputs": [
    {
     "name": "stdout",
     "output_type": "stream",
     "text": [
      "_________________________________________________________________\n",
      "Layer (type)                 Output Shape              Param #   \n",
      "=================================================================\n",
      "input_1 (InputLayer)         (None, 12)                0         \n",
      "_________________________________________________________________\n",
      "dense_1 (Dense)              (None, 10)                130       \n",
      "_________________________________________________________________\n",
      "dropout_1 (Dropout)          (None, 10)                0         \n",
      "_________________________________________________________________\n",
      "dense_2 (Dense)              (None, 2)                 22        \n",
      "=================================================================\n",
      "Total params: 152\n",
      "Trainable params: 152\n",
      "Non-trainable params: 0\n",
      "_________________________________________________________________\n"
     ]
    }
   ],
   "source": [
    "model.summary()"
   ]
  },
  {
   "cell_type": "code",
   "execution_count": 15,
   "metadata": {},
   "outputs": [],
   "source": [
    "from keras.utils.vis_utils import plot_model\n",
    "plot_model(model, 'temp.png', show_shapes=True)"
   ]
  },
  {
   "cell_type": "code",
   "execution_count": 16,
   "metadata": {},
   "outputs": [],
   "source": [
    "model.compile('adam', 'sparse_categorical_crossentropy')"
   ]
  },
  {
   "cell_type": "code",
   "execution_count": 17,
   "metadata": {},
   "outputs": [],
   "source": [
    "from keras.callbacks import EarlyStopping, ModelCheckpoint"
   ]
  },
  {
   "cell_type": "code",
   "execution_count": 18,
   "metadata": {},
   "outputs": [
    {
     "data": {
      "text/plain": [
       "Counter({1: 4623, 0: 4520})"
      ]
     },
     "execution_count": 18,
     "metadata": {},
     "output_type": "execute_result"
    }
   ],
   "source": [
    "from collections import Counter\n",
    "Counter(y_test)"
   ]
  },
  {
   "cell_type": "code",
   "execution_count": 19,
   "metadata": {},
   "outputs": [
    {
     "name": "stdout",
     "output_type": "stream",
     "text": [
      "Training:\n",
      "WARNING:tensorflow:From /opt/rh/rh-python36/root/usr/lib/python3.6/site-packages/tensorflow/python/ops/math_ops.py:3066: to_int32 (from tensorflow.python.ops.math_ops) is deprecated and will be removed in a future version.\n",
      "Instructions for updating:\n",
      "Use tf.cast instead.\n",
      "Train on 10970 samples, validate on 2743 samples\n",
      "Epoch 1/20\n",
      "10970/10970 [==============================] - 1s 75us/step - loss: 0.6376 - val_loss: 0.5749\n",
      "\n",
      "Epoch 00001: val_loss improved from inf to 0.57490, saving model to ./tutorial-progress.h5\n",
      "Epoch 2/20\n",
      "10970/10970 [==============================] - 1s 52us/step - loss: 0.5910 - val_loss: 0.5550\n",
      "\n",
      "Epoch 00002: val_loss improved from 0.57490 to 0.55499, saving model to ./tutorial-progress.h5\n",
      "Epoch 3/20\n",
      "10970/10970 [==============================] - 1s 53us/step - loss: 0.5753 - val_loss: 0.5448\n",
      "\n",
      "Epoch 00003: val_loss improved from 0.55499 to 0.54477, saving model to ./tutorial-progress.h5\n",
      "Epoch 4/20\n",
      "10970/10970 [==============================] - 1s 52us/step - loss: 0.5642 - val_loss: 0.5376\n",
      "\n",
      "Epoch 00004: val_loss improved from 0.54477 to 0.53757, saving model to ./tutorial-progress.h5\n",
      "Epoch 5/20\n",
      "10970/10970 [==============================] - 0s 42us/step - loss: 0.5605 - val_loss: 0.5322\n",
      "\n",
      "Epoch 00005: val_loss improved from 0.53757 to 0.53218, saving model to ./tutorial-progress.h5\n",
      "Epoch 6/20\n",
      "10970/10970 [==============================] - 1s 56us/step - loss: 0.5533 - val_loss: 0.5287\n",
      "\n",
      "Epoch 00006: val_loss improved from 0.53218 to 0.52865, saving model to ./tutorial-progress.h5\n",
      "Epoch 7/20\n",
      "10970/10970 [==============================] - 1s 54us/step - loss: 0.5525 - val_loss: 0.5258\n",
      "\n",
      "Epoch 00007: val_loss improved from 0.52865 to 0.52577, saving model to ./tutorial-progress.h5\n",
      "Epoch 8/20\n",
      "10970/10970 [==============================] - 1s 49us/step - loss: 0.5468 - val_loss: 0.5235\n",
      "\n",
      "Epoch 00008: val_loss improved from 0.52577 to 0.52352, saving model to ./tutorial-progress.h5\n",
      "Epoch 9/20\n",
      "10970/10970 [==============================] - 1s 50us/step - loss: 0.5500 - val_loss: 0.5217\n",
      "\n",
      "Epoch 00009: val_loss improved from 0.52352 to 0.52173, saving model to ./tutorial-progress.h5\n",
      "Epoch 10/20\n",
      "10970/10970 [==============================] - 1s 55us/step - loss: 0.5434 - val_loss: 0.5206\n",
      "\n",
      "Epoch 00010: val_loss improved from 0.52173 to 0.52058, saving model to ./tutorial-progress.h5\n",
      "Epoch 11/20\n",
      "10970/10970 [==============================] - 1s 48us/step - loss: 0.5438 - val_loss: 0.5196\n",
      "\n",
      "Epoch 00011: val_loss improved from 0.52058 to 0.51963, saving model to ./tutorial-progress.h5\n",
      "Epoch 12/20\n",
      "10970/10970 [==============================] - 1s 52us/step - loss: 0.5449 - val_loss: 0.5199\n",
      "\n",
      "Epoch 00012: val_loss did not improve from 0.51963\n",
      "Epoch 13/20\n",
      "10970/10970 [==============================] - 0s 44us/step - loss: 0.5441 - val_loss: 0.5184\n",
      "\n",
      "Epoch 00013: val_loss improved from 0.51963 to 0.51835, saving model to ./tutorial-progress.h5\n",
      "Epoch 14/20\n",
      "10970/10970 [==============================] - 0s 36us/step - loss: 0.5413 - val_loss: 0.5172\n",
      "\n",
      "Epoch 00014: val_loss improved from 0.51835 to 0.51724, saving model to ./tutorial-progress.h5\n",
      "Epoch 15/20\n",
      "10970/10970 [==============================] - 0s 39us/step - loss: 0.5429 - val_loss: 0.5168\n",
      "\n",
      "Epoch 00015: val_loss improved from 0.51724 to 0.51677, saving model to ./tutorial-progress.h5\n",
      "Epoch 16/20\n",
      "10970/10970 [==============================] - 1s 57us/step - loss: 0.5413 - val_loss: 0.5177\n",
      "\n",
      "Epoch 00016: val_loss did not improve from 0.51677\n",
      "Epoch 17/20\n",
      "10970/10970 [==============================] - 1s 54us/step - loss: 0.5406 - val_loss: 0.5185\n",
      "\n",
      "Epoch 00017: val_loss did not improve from 0.51677\n",
      "Epoch 18/20\n",
      "10970/10970 [==============================] - 1s 54us/step - loss: 0.5424 - val_loss: 0.5173\n",
      "\n",
      "Epoch 00018: val_loss did not improve from 0.51677\n",
      "Epoch 19/20\n",
      "10970/10970 [==============================] - 1s 55us/step - loss: 0.5420 - val_loss: 0.5177\n",
      "\n",
      "Epoch 00019: val_loss did not improve from 0.51677\n",
      "Epoch 20/20\n",
      "10970/10970 [==============================] - 1s 57us/step - loss: 0.5391 - val_loss: 0.5162\n",
      "\n",
      "Epoch 00020: val_loss improved from 0.51677 to 0.51620, saving model to ./tutorial-progress.h5\n"
     ]
    }
   ],
   "source": [
    "print ('Training:')\n",
    "try:\n",
    "    model.fit(\n",
    "        X_train, y_train, class_weight={ # rebalance class representation\n",
    "            0 : 0.50 * (float(len(y)) / (y == 0).sum()),\n",
    "            1 : 0.50 * (float(len(y)) / (y == 1).sum()),\n",
    "            #2 : 0.40 * (float(len(y)) / (y == 2).sum())\n",
    "        },\n",
    "        callbacks = [\n",
    "            EarlyStopping(verbose=True, patience=10, monitor='val_loss'),\n",
    "            ModelCheckpoint('./tutorial-progress.h5', monitor='val_loss', verbose=True, save_best_only=True)\n",
    "        ],\n",
    "        epochs=20, \n",
    "        validation_split = 0.2,\n",
    "        verbose=True ) \n",
    "except KeyboardInterrupt:\n",
    "    print('Training ended early.')"
   ]
  },
  {
   "cell_type": "code",
   "execution_count": 20,
   "metadata": {},
   "outputs": [
    {
     "name": "stdout",
     "output_type": "stream",
     "text": [
      "Saving model...\n",
      "Done\n"
     ]
    }
   ],
   "source": [
    "# -- load in best network\n",
    "model.load_weights('./tutorial-progress.h5')\n",
    "\n",
    "# -- Save network weights and structure\n",
    "print( 'Saving model...')\n",
    "model.save_weights('./tutorial.h5', overwrite=True)\n",
    "json_string = model.to_json()\n",
    "open('./tutorial.json', 'w').write(json_string)\n",
    "print ('Done')"
   ]
  },
  {
   "cell_type": "code",
   "execution_count": 21,
   "metadata": {},
   "outputs": [
    {
     "name": "stdout",
     "output_type": "stream",
     "text": [
      "Testing...\n",
      "9143/9143 [==============================] - 0s 4us/step\n"
     ]
    }
   ],
   "source": [
    "print ('Testing...')\n",
    "yhat = model.predict(X_test, verbose = True, batch_size = 512)"
   ]
  },
  {
   "cell_type": "code",
   "execution_count": 22,
   "metadata": {},
   "outputs": [
    {
     "data": {
      "text/plain": [
       "array([[0.22121365, 0.7787863 ],\n",
       "       [0.22084889, 0.7791512 ],\n",
       "       [0.7569541 , 0.24304593],\n",
       "       ...,\n",
       "       [0.61629826, 0.38370177],\n",
       "       [0.5333759 , 0.46662405],\n",
       "       [0.33976948, 0.6602305 ]], dtype=float32)"
      ]
     },
     "execution_count": 22,
     "metadata": {},
     "output_type": "execute_result"
    }
   ],
   "source": [
    "yhat"
   ]
  },
  {
   "cell_type": "code",
   "execution_count": 23,
   "metadata": {},
   "outputs": [],
   "source": [
    "#yhat_cls = np.argmax(yhat, axis=1)\n",
    "yhat_cls = np.argmax(yhat>0.6, axis=1)"
   ]
  },
  {
   "cell_type": "code",
   "execution_count": 24,
   "metadata": {},
   "outputs": [
    {
     "data": {
      "text/plain": [
       "array([1, 1, 0, ..., 0, 0, 1])"
      ]
     },
     "execution_count": 24,
     "metadata": {},
     "output_type": "execute_result"
    }
   ],
   "source": [
    "yhat_cls"
   ]
  },
  {
   "cell_type": "code",
   "execution_count": 25,
   "metadata": {},
   "outputs": [],
   "source": [
    "import itertools\n",
    "from sklearn.metrics import confusion_matrix\n",
    "\n",
    "def plot_confusion_matrix(cm, classes,\n",
    "                          normalize=False,\n",
    "                          title='Confusion matrix',\n",
    "                          cmap=plt.cm.Blues):\n",
    "    \"\"\"\n",
    "    This function prints and plots the confusion matrix.\n",
    "    Normalization can be applied by setting `normalize=True`.\n",
    "    \"\"\"\n",
    "    if normalize:\n",
    "        cm = cm.astype('float') / cm.sum(axis=1)[:, np.newaxis]\n",
    "        print(\"Normalized confusion matrix\")\n",
    "    else:\n",
    "        print('Confusion matrix, without normalization')\n",
    "\n",
    "    print(cm)\n",
    "\n",
    "    plt.imshow(cm, interpolation='nearest', cmap=cmap)\n",
    "    plt.title(title)\n",
    "    plt.colorbar()\n",
    "    tick_marks = np.arange(len(classes))\n",
    "    plt.xticks(tick_marks, classes, rotation=45)\n",
    "    plt.yticks(tick_marks, classes)\n",
    "\n",
    "    fmt = '.2f' if normalize else 'd'\n",
    "    thresh = cm.max() / 2.\n",
    "    for i, j in itertools.product(range(cm.shape[0]), range(cm.shape[1])):\n",
    "        plt.text(j, i, format(cm[i, j], fmt),\n",
    "                 horizontalalignment=\"center\",\n",
    "                 color=\"white\" if cm[i, j] > thresh else \"black\")\n",
    "\n",
    "    plt.tight_layout()\n",
    "    plt.ylabel('True label')\n",
    "    plt.xlabel('Predicted label')"
   ]
  },
  {
   "cell_type": "code",
   "execution_count": 26,
   "metadata": {},
   "outputs": [],
   "source": [
    "cnf_matrix = confusion_matrix(y_test, yhat_cls, sample_weight=w_test)\n",
    "np.set_printoptions(precision=2)"
   ]
  },
  {
   "cell_type": "code",
   "execution_count": 27,
   "metadata": {},
   "outputs": [
    {
     "name": "stdout",
     "output_type": "stream",
     "text": [
      "Normalized confusion matrix\n",
      "[[0.81 0.19]\n",
      " [0.07 0.93]]\n"
     ]
    },
    {
     "data": {
      "image/png": "[encoded data removed]",
      "text/plain": [
       "<Figure size 432x288 with 2 Axes>"
      ]
     },
     "metadata": {
      "needs_background": "light"
     },
     "output_type": "display_data"
    }
   ],
   "source": [
    "plot_confusion_matrix(cnf_matrix, classes=['ggHZZ - Higgs only', 'qqZZ'],\n",
    "                      normalize=True,\n",
    "                      title='Normalized confusion matrix')"
   ]
  },
  {
   "cell_type": "code",
   "execution_count": 28,
   "metadata": {},
   "outputs": [
    {
     "name": "stdout",
     "output_type": "stream",
     "text": [
      "Signal efficiency: 0.8076135347296567\n",
      "Background efficiency: 0.06809336842751892\n",
      "Background rej: 14.685717906060656\n"
     ]
    }
   ],
   "source": [
    "# signal eff = weighted tpr --> out of all signal events, what % for we classify as signal?\n",
    "print ('Signal efficiency:', w_test[(y_test == 0) & (yhat_cls == 0)].sum() / w_test[y_test == 0].sum())\n",
    "\n",
    "# bkg eff = weighted fpr --> out of all bkg events, what % do we classify as signal?\n",
    "b_eff = w_test[(y_test != 0) & (yhat_cls == 0)].sum() / w_test[y_test != 0].sum()\n",
    "print ('Background efficiency:', b_eff )\n",
    "print ('Background rej:', 1 / b_eff)"
   ]
  },
  {
   "cell_type": "code",
   "execution_count": null,
   "metadata": {},
   "outputs": [],
   "source": []
  }
 ],
 "metadata": {
  "kernelspec": {
   "display_name": "py3-w-ROOT",
   "language": "python",
   "name": "slac_stack"
  },
  "language_info": {
   "codemirror_mode": {
    "name": "ipython",
    "version": 3
   },
   "file_extension": ".py",
   "mimetype": "text/x-python",
   "name": "python",
   "nbconvert_exporter": "python",
   "pygments_lexer": "ipython3",
   "version": "3.6.3"
  }
 },
 "nbformat": 4,
 "nbformat_minor": 2
}
