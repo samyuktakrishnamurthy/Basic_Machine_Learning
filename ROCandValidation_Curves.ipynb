{
 "cells": [
  {
   "cell_type": "code",
   "execution_count": 1,
   "metadata": {},
   "outputs": [],
   "source": [
    "import numpy as np\n",
    "import matplotlib\n",
    "import matplotlib.pyplot as plt\n",
    "import pandas as pd\n",
    "from keras.models import Model\n",
    "from keras.layers import Dense, Dropout, Input\n",
    "from sklearn.model_selection import train_test_split\n",
    "from keras.utils.vis_utils import plot_model\n",
    "from keras.callbacks import EarlyStopping, ModelCheckpoint\n",
    "import itertools\n",
    "from sklearn.metrics import confusion_matrix\n",
    "from sklearn.metrics import roc_curve, auc\n",
    "import sys \n",
    "from numpy import trapz\n",
    "from scipy import interp\n",
    "\n",
    "%matplotlib inline"
   ]
  },
  {
   "cell_type": "code",
   "execution_count": 2,
   "metadata": {},
   "outputs": [],
   "source": [
    "# Get the required files\n",
    "df_sig = pd.read_hdf('mc16ae_Honly_sig_NN_var.h5', 'df_sig')\n",
    "df_bkg2 = pd.read_hdf('mc16a_qZZ_bkg_NN_var.h5','df_bkg2')\n",
    "#get 1 jet events\n",
    "df_sig1j = df_sig[df_sig['n_jets']==1]\n",
    "df_bkg21j = df_bkg2[df_bkg2['n_jets']==1]"
   ]
  },
  {
   "cell_type": "code",
   "execution_count": 3,
   "metadata": {},
   "outputs": [],
   "source": [
    "#define the discriminant\n",
    "df_sig['ME_disc_0j'] = np.log10(df_sig['ggHZZ_ME_0j']/(df_sig['ggZZ_ME_0j']+0.1*df_sig['qqZZ_ME_0j']))\n",
    "df_bkg2['ME_disc_0j'] = np.log10(df_bkg2['ggHZZ_ME_0j']/(df_bkg2['ggZZ_ME_0j']+0.1*df_bkg2['qqZZ_ME_0j']))"
   ]
  },
  {
   "cell_type": "code",
   "execution_count": 4,
   "metadata": {},
   "outputs": [],
   "source": [
    "# names of event-level branches\n",
    "npart = [\"ME_disc_0j\",\"m4l_unconstrained\",\"cos_theta_str\",\"cos_theta_1\",\"pt4l_fsr\",\"phi\",\"phi_1\",\"Z1_m\",\"Z2_m\",\"n_jets\"]"
   ]
  },
  {
   "cell_type": "code",
   "execution_count": 5,
   "metadata": {},
   "outputs": [
    {
     "name": "stderr",
     "output_type": "stream",
     "text": [
      "/opt/rh/rh-python36/root/usr/lib/python3.6/site-packages/ipykernel/__main__.py:3: FutureWarning: Method .as_matrix will be removed in a future version. Use .values instead.\n",
      "  app.launch_new_instance()\n"
     ]
    }
   ],
   "source": [
    "df= pd.concat((df_sig[npart], df_bkg2[npart]), ignore_index=True)\n",
    "\n",
    "X = df.as_matrix()\n",
    "w =  pd.concat((df_sig['weight'], df_bkg2['weight']), ignore_index=True).values\n",
    "y = []\n",
    "for _df, ID in [(df_sig, 0), (df_bkg2, 1)]:\n",
    "    y.extend([ID] * _df.shape[0])\n",
    "y = np.array(y)"
   ]
  },
  {
   "cell_type": "code",
   "execution_count": 6,
   "metadata": {},
   "outputs": [
    {
     "name": "stderr",
     "output_type": "stream",
     "text": [
      "/opt/rh/rh-python36/root/usr/lib64/python3.6/site-packages/sklearn/model_selection/_split.py:2179: FutureWarning: From version 0.21, test_size will always complement train_size unless both are specified.\n",
      "  FutureWarning)\n"
     ]
    }
   ],
   "source": [
    "ix = range(X.shape[0])\n",
    "X_train, X_test, y_train, y_test, w_train, w_test, ix_train, ix_test = train_test_split(X, y, w, ix, train_size=0.4)"
   ]
  },
  {
   "cell_type": "code",
   "execution_count": 7,
   "metadata": {},
   "outputs": [],
   "source": [
    "from sklearn.preprocessing import StandardScaler\n",
    "scaler = StandardScaler()\n",
    "X_train = scaler.fit_transform(X_train)\n",
    "X_test = scaler.transform(X_test)"
   ]
  },
  {
   "cell_type": "code",
   "execution_count": 8,
   "metadata": {},
   "outputs": [
    {
     "name": "stdout",
     "output_type": "stream",
     "text": [
      "WARNING:tensorflow:From /opt/rh/rh-python36/root/usr/lib/python3.6/site-packages/tensorflow/python/framework/op_def_library.py:263: colocate_with (from tensorflow.python.framework.ops) is deprecated and will be removed in a future version.\n",
      "Instructions for updating:\n",
      "Colocations handled automatically by placer.\n",
      "_________________________________________________________________\n",
      "Layer (type)                 Output Shape              Param #   \n",
      "=================================================================\n",
      "input_1 (InputLayer)         (None, 10)                0         \n",
      "_________________________________________________________________\n",
      "dense_1 (Dense)              (None, 2)                 22        \n",
      "_________________________________________________________________\n",
      "dense_2 (Dense)              (None, 2)                 6         \n",
      "=================================================================\n",
      "Total params: 28\n",
      "Trainable params: 28\n",
      "Non-trainable params: 0\n",
      "_________________________________________________________________\n"
     ]
    }
   ],
   "source": [
    "inputs = Input(shape=(X_train.shape[1], )) # placeholder\n",
    "\n",
    "hidden = Dense(2, activation='relu')(inputs)\n",
    "#hidden = Dropout(0.2)(hidden)\n",
    "#hidden = Dense(20, activation='relu')(hidden)\n",
    "#hidden = Dropout(0.2)(hidden)\n",
    "#hidden = Dense(30, activation='relu')(hidden)\n",
    "#hidden = Dropout(0.2)(hidden)\n",
    "outputs = Dense(2, activation='sigmoid')(hidden)\n",
    "# last layer has to have the same dimensionality as the number of classes we want to predict, here 3\n",
    "\n",
    "model = Model(inputs, outputs)\n",
    "model.summary()\n",
    "plot_model(model, 'temp.png', show_shapes=True)"
   ]
  },
  {
   "cell_type": "code",
   "execution_count": 9,
   "metadata": {},
   "outputs": [],
   "source": [
    "model.compile('adam', 'sparse_categorical_crossentropy', metrics=['accuracy'])"
   ]
  },
  {
   "cell_type": "code",
   "execution_count": 10,
   "metadata": {},
   "outputs": [
    {
     "data": {
      "text/plain": [
       "Counter({0: 17422, 1: 25789})"
      ]
     },
     "execution_count": 10,
     "metadata": {},
     "output_type": "execute_result"
    }
   ],
   "source": [
    "from collections import Counter\n",
    "Counter(y_test)"
   ]
  },
  {
   "cell_type": "code",
   "execution_count": 11,
   "metadata": {},
   "outputs": [
    {
     "name": "stdout",
     "output_type": "stream",
     "text": [
      "Training:\n",
      "WARNING:tensorflow:From /opt/rh/rh-python36/root/usr/lib/python3.6/site-packages/tensorflow/python/ops/math_ops.py:3066: to_int32 (from tensorflow.python.ops.math_ops) is deprecated and will be removed in a future version.\n",
      "Instructions for updating:\n",
      "Use tf.cast instead.\n",
      "\n",
      "Epoch 00001: val_loss improved from inf to 0.69164, saving model to ./tutorial-progress.h5\n",
      "\n",
      "Epoch 00002: val_loss improved from 0.69164 to 0.67860, saving model to ./tutorial-progress.h5\n",
      "\n",
      "Epoch 00003: val_loss improved from 0.67860 to 0.66818, saving model to ./tutorial-progress.h5\n",
      "\n",
      "Epoch 00004: val_loss improved from 0.66818 to 0.63548, saving model to ./tutorial-progress.h5\n",
      "\n",
      "Epoch 00005: val_loss improved from 0.63548 to 0.57577, saving model to ./tutorial-progress.h5\n",
      "\n",
      "Epoch 00006: val_loss improved from 0.57577 to 0.53369, saving model to ./tutorial-progress.h5\n",
      "\n",
      "Epoch 00007: val_loss improved from 0.53369 to 0.51090, saving model to ./tutorial-progress.h5\n",
      "\n",
      "Epoch 00008: val_loss improved from 0.51090 to 0.49886, saving model to ./tutorial-progress.h5\n",
      "\n",
      "Epoch 00009: val_loss improved from 0.49886 to 0.49216, saving model to ./tutorial-progress.h5\n",
      "\n",
      "Epoch 00010: val_loss improved from 0.49216 to 0.48818, saving model to ./tutorial-progress.h5\n",
      "\n",
      "Epoch 00011: val_loss improved from 0.48818 to 0.48559, saving model to ./tutorial-progress.h5\n",
      "\n",
      "Epoch 00012: val_loss improved from 0.48559 to 0.48376, saving model to ./tutorial-progress.h5\n",
      "\n",
      "Epoch 00013: val_loss improved from 0.48376 to 0.48211, saving model to ./tutorial-progress.h5\n",
      "\n",
      "Epoch 00014: val_loss improved from 0.48211 to 0.48091, saving model to ./tutorial-progress.h5\n",
      "\n",
      "Epoch 00015: val_loss improved from 0.48091 to 0.48015, saving model to ./tutorial-progress.h5\n",
      "\n",
      "Epoch 00016: val_loss improved from 0.48015 to 0.47944, saving model to ./tutorial-progress.h5\n",
      "\n",
      "Epoch 00017: val_loss improved from 0.47944 to 0.47888, saving model to ./tutorial-progress.h5\n",
      "\n",
      "Epoch 00018: val_loss improved from 0.47888 to 0.47845, saving model to ./tutorial-progress.h5\n",
      "\n",
      "Epoch 00019: val_loss improved from 0.47845 to 0.47788, saving model to ./tutorial-progress.h5\n",
      "\n",
      "Epoch 00020: val_loss improved from 0.47788 to 0.47750, saving model to ./tutorial-progress.h5\n",
      "\n",
      "Epoch 00021: val_loss improved from 0.47750 to 0.47710, saving model to ./tutorial-progress.h5\n",
      "\n",
      "Epoch 00022: val_loss did not improve from 0.47710\n",
      "\n",
      "Epoch 00023: val_loss improved from 0.47710 to 0.47674, saving model to ./tutorial-progress.h5\n",
      "\n",
      "Epoch 00024: val_loss improved from 0.47674 to 0.47633, saving model to ./tutorial-progress.h5\n",
      "\n",
      "Epoch 00025: val_loss improved from 0.47633 to 0.47619, saving model to ./tutorial-progress.h5\n",
      "\n",
      "Epoch 00026: val_loss did not improve from 0.47619\n",
      "\n",
      "Epoch 00027: val_loss improved from 0.47619 to 0.47573, saving model to ./tutorial-progress.h5\n",
      "\n",
      "Epoch 00028: val_loss improved from 0.47573 to 0.47561, saving model to ./tutorial-progress.h5\n",
      "\n",
      "Epoch 00029: val_loss improved from 0.47561 to 0.47543, saving model to ./tutorial-progress.h5\n",
      "\n",
      "Epoch 00030: val_loss improved from 0.47543 to 0.47537, saving model to ./tutorial-progress.h5\n",
      "\n",
      "Epoch 00031: val_loss improved from 0.47537 to 0.47506, saving model to ./tutorial-progress.h5\n",
      "\n",
      "Epoch 00032: val_loss improved from 0.47506 to 0.47493, saving model to ./tutorial-progress.h5\n",
      "\n",
      "Epoch 00033: val_loss improved from 0.47493 to 0.47490, saving model to ./tutorial-progress.h5\n",
      "\n",
      "Epoch 00034: val_loss improved from 0.47490 to 0.47488, saving model to ./tutorial-progress.h5\n",
      "\n",
      "Epoch 00035: val_loss improved from 0.47488 to 0.47474, saving model to ./tutorial-progress.h5\n",
      "\n",
      "Epoch 00036: val_loss improved from 0.47474 to 0.47464, saving model to ./tutorial-progress.h5\n",
      "\n",
      "Epoch 00037: val_loss improved from 0.47464 to 0.47431, saving model to ./tutorial-progress.h5\n",
      "\n",
      "Epoch 00038: val_loss improved from 0.47431 to 0.47419, saving model to ./tutorial-progress.h5\n",
      "\n",
      "Epoch 00039: val_loss did not improve from 0.47419\n",
      "\n",
      "Epoch 00040: val_loss improved from 0.47419 to 0.47407, saving model to ./tutorial-progress.h5\n",
      "\n",
      "Epoch 00041: val_loss improved from 0.47407 to 0.47382, saving model to ./tutorial-progress.h5\n",
      "\n",
      "Epoch 00042: val_loss improved from 0.47382 to 0.47364, saving model to ./tutorial-progress.h5\n",
      "\n",
      "Epoch 00043: val_loss improved from 0.47364 to 0.47357, saving model to ./tutorial-progress.h5\n",
      "\n",
      "Epoch 00044: val_loss improved from 0.47357 to 0.47353, saving model to ./tutorial-progress.h5\n",
      "\n",
      "Epoch 00045: val_loss did not improve from 0.47353\n",
      "\n",
      "Epoch 00046: val_loss improved from 0.47353 to 0.47334, saving model to ./tutorial-progress.h5\n",
      "\n",
      "Epoch 00047: val_loss improved from 0.47334 to 0.47322, saving model to ./tutorial-progress.h5\n",
      "\n",
      "Epoch 00048: val_loss did not improve from 0.47322\n",
      "\n",
      "Epoch 00049: val_loss improved from 0.47322 to 0.47305, saving model to ./tutorial-progress.h5\n",
      "\n",
      "Epoch 00050: val_loss improved from 0.47305 to 0.47295, saving model to ./tutorial-progress.h5\n",
      "\n",
      "Epoch 00051: val_loss improved from 0.47295 to 0.47293, saving model to ./tutorial-progress.h5\n",
      "\n",
      "Epoch 00052: val_loss did not improve from 0.47293\n",
      "\n",
      "Epoch 00053: val_loss improved from 0.47293 to 0.47290, saving model to ./tutorial-progress.h5\n",
      "\n",
      "Epoch 00054: val_loss did not improve from 0.47290\n",
      "\n",
      "Epoch 00055: val_loss did not improve from 0.47290\n",
      "\n",
      "Epoch 00056: val_loss did not improve from 0.47290\n",
      "\n",
      "Epoch 00057: val_loss did not improve from 0.47290\n",
      "\n",
      "Epoch 00058: val_loss did not improve from 0.47290\n",
      "\n",
      "Epoch 00059: val_loss improved from 0.47290 to 0.47277, saving model to ./tutorial-progress.h5\n",
      "\n",
      "Epoch 00060: val_loss did not improve from 0.47277\n",
      "\n",
      "Epoch 00061: val_loss did not improve from 0.47277\n",
      "\n",
      "Epoch 00062: val_loss did not improve from 0.47277\n",
      "\n",
      "Epoch 00063: val_loss improved from 0.47277 to 0.47276, saving model to ./tutorial-progress.h5\n",
      "\n",
      "Epoch 00064: val_loss did not improve from 0.47276\n",
      "\n",
      "Epoch 00065: val_loss improved from 0.47276 to 0.47273, saving model to ./tutorial-progress.h5\n",
      "\n",
      "Epoch 00066: val_loss did not improve from 0.47273\n",
      "\n",
      "Epoch 00067: val_loss improved from 0.47273 to 0.47269, saving model to ./tutorial-progress.h5\n",
      "\n",
      "Epoch 00068: val_loss improved from 0.47269 to 0.47262, saving model to ./tutorial-progress.h5\n",
      "\n",
      "Epoch 00069: val_loss did not improve from 0.47262\n",
      "\n",
      "Epoch 00070: val_loss did not improve from 0.47262\n",
      "\n",
      "Epoch 00071: val_loss did not improve from 0.47262\n",
      "\n",
      "Epoch 00072: val_loss did not improve from 0.47262\n",
      "\n",
      "Epoch 00073: val_loss did not improve from 0.47262\n",
      "\n",
      "Epoch 00074: val_loss did not improve from 0.47262\n",
      "\n",
      "Epoch 00075: val_loss did not improve from 0.47262\n",
      "\n",
      "Epoch 00076: val_loss did not improve from 0.47262\n",
      "\n",
      "Epoch 00077: val_loss did not improve from 0.47262\n",
      "\n",
      "Epoch 00078: val_loss improved from 0.47262 to 0.47261, saving model to ./tutorial-progress.h5\n",
      "\n",
      "Epoch 00079: val_loss did not improve from 0.47261\n",
      "\n",
      "Epoch 00080: val_loss improved from 0.47261 to 0.47255, saving model to ./tutorial-progress.h5\n",
      "\n",
      "Epoch 00081: val_loss did not improve from 0.47255\n",
      "\n",
      "Epoch 00082: val_loss did not improve from 0.47255\n",
      "\n",
      "Epoch 00083: val_loss did not improve from 0.47255\n",
      "\n",
      "Epoch 00084: val_loss did not improve from 0.47255\n",
      "\n",
      "Epoch 00085: val_loss did not improve from 0.47255\n",
      "\n",
      "Epoch 00086: val_loss did not improve from 0.47255\n",
      "\n",
      "Epoch 00087: val_loss did not improve from 0.47255\n",
      "\n",
      "Epoch 00088: val_loss did not improve from 0.47255\n",
      "\n",
      "Epoch 00089: val_loss did not improve from 0.47255\n",
      "\n",
      "Epoch 00090: val_loss did not improve from 0.47255\n",
      "\n",
      "Epoch 00091: val_loss did not improve from 0.47255\n",
      "\n",
      "Epoch 00092: val_loss did not improve from 0.47255\n",
      "\n",
      "Epoch 00093: val_loss did not improve from 0.47255\n",
      "\n",
      "Epoch 00094: val_loss did not improve from 0.47255\n",
      "\n",
      "Epoch 00095: val_loss did not improve from 0.47255\n",
      "Epoch 00095: early stopping\n"
     ]
    }
   ],
   "source": [
    "print ('Training:')\n",
    "try:\n",
    "    history = model.fit(\n",
    "        X_train, y_train, \n",
    "        class_weight={ # rebalance class representation\n",
    "            0 : 0.40 * (float(len(y)) / (y == 0).sum()),\n",
    "            1 : 0.60 * (float(len(y)) / (y == 1).sum()), },\n",
    "        callbacks = [\n",
    "            EarlyStopping(verbose=True, patience=15, monitor='val_loss'),\n",
    "            ModelCheckpoint('./tutorial-progress.h5', monitor='val_loss', verbose=True, save_best_only=True)\n",
    "        ],\n",
    "        epochs=100, \n",
    "        validation_split = 0.5,\n",
    "        batch_size=100,\n",
    "        verbose=False)\n",
    "except KeyboardInterrupt:\n",
    "    print('Training ended early.')"
   ]
  },
  {
   "cell_type": "code",
   "execution_count": 12,
   "metadata": {},
   "outputs": [
    {
     "data": {
      "image/png": "[encoded data removed]",
      "text/plain": [
       "<Figure size 432x288 with 1 Axes>"
      ]
     },
     "metadata": {
      "needs_background": "light"
     },
     "output_type": "display_data"
    }
   ],
   "source": [
    "plt.plot(history.history['loss'])\n",
    "plt.plot(history.history['val_loss'])\n",
    "plt.title('model loss')\n",
    "plt.ylabel('loss')\n",
    "plt.xlabel('epoch')\n",
    "plt.legend(['train', 'test'], loc='upper right')\n",
    "plt.show()"
   ]
  },
  {
   "cell_type": "code",
   "execution_count": 13,
   "metadata": {},
   "outputs": [
    {
     "name": "stdout",
     "output_type": "stream",
     "text": [
      "Saving model...\n",
      "Done\n"
     ]
    }
   ],
   "source": [
    "# -- load in best network\n",
    "model.load_weights('./tutorial-progress.h5')\n",
    "# -- Save network weights and structure\n",
    "print( 'Saving model...')\n",
    "model.save_weights('./tutorial.h5', overwrite=True)\n",
    "json_string = model.to_json()\n",
    "open('./tutorial.json', 'w').write(json_string)\n",
    "print ('Done')"
   ]
  },
  {
   "cell_type": "code",
   "execution_count": 14,
   "metadata": {},
   "outputs": [
    {
     "name": "stdout",
     "output_type": "stream",
     "text": [
      "Testing...\n",
      "43211/43211 [==============================] - 0s 2us/step\n"
     ]
    }
   ],
   "source": [
    "print ('Testing...')\n",
    "yhat = model.predict(X_test, verbose = True, batch_size = 400)"
   ]
  },
  {
   "cell_type": "code",
   "execution_count": 15,
   "metadata": {},
   "outputs": [],
   "source": [
    "yhat_sig=[]\n",
    "yhat_sig.clear()\n",
    "for i in range(0, 43211):\n",
    "    yhat_sig.append(yhat[i][0])\n"
   ]
  },
  {
   "cell_type": "code",
   "execution_count": 16,
   "metadata": {},
   "outputs": [
    {
     "data": {
      "image/png": "[encoded data removed]",
      "text/plain": [
       "<Figure size 432x288 with 1 Axes>"
      ]
     },
     "metadata": {
      "needs_background": "light"
     },
     "output_type": "display_data"
    }
   ],
   "source": [
    "tprs = []\n",
    "aucs = []\n",
    "mean_fpr = np.linspace(0, 1, 100)\n",
    "\n",
    "fpr, tpr, thresholds = roc_curve(y_test, yhat_sig)\n",
    "tprs.append(interp(mean_fpr, fpr, tpr))\n",
    "tprs[-1][0] = 0.0\n",
    "roc_auc = auc(fpr, tpr)\n",
    "aucs.append(roc_auc)\n",
    "plt.plot(fpr, 1-tpr, alpha=0.5, label='ROC fold %d (AUC = %0.2f)' % (i, roc_auc))\n",
    "mean_tpr = np.mean(tprs, axis=0)\n",
    "mean_tpr[-1] = 1.0\n",
    "mean_auc = auc(mean_fpr, mean_tpr)\n",
    "std_auc = np.std(aucs)\n",
    "std_tpr = np.std(tprs, axis=0)\n",
    "tprs_upper = np.minimum(mean_tpr + std_tpr, 1)\n",
    "tprs_lower = np.maximum(mean_tpr - std_tpr, 0)\n",
    "\n",
    "#plt.fill_between(mean_fpr, tprs_lower, tprs_upper, color='grey', alpha=.2, label=r'$\\pm$ 1 std. dev.')"
   ]
  },
  {
   "cell_type": "code",
   "execution_count": 17,
   "metadata": {},
   "outputs": [
    {
     "ename": "ValueError",
     "evalue": "operands could not be broadcast together with shapes (43211,) (411,) ",
     "output_type": "error",
     "traceback": [
      "\u001b[0;31m---------------------------------------------------------------------------\u001b[0m",
      "\u001b[0;31mValueError\u001b[0m                                Traceback (most recent call last)",
      "\u001b[0;32m<ipython-input-17-73148ee62bcf>\u001b[0m in \u001b[0;36m<module>\u001b[0;34m\u001b[0m\n\u001b[1;32m     14\u001b[0m     \u001b[0;31m#print(w_test[(y_test == 0) & (yhat_cls == 0)].sum() / w_test[y_test == 0].sum())\u001b[0m\u001b[0;34m\u001b[0m\u001b[0;34m\u001b[0m\u001b[0m\n\u001b[1;32m     15\u001b[0m     \u001b[0;31m#print(1- w_test[(y_test == 1) & (yhat_cls == 0)].sum() / w_test[y_test == 1].sum())\u001b[0m\u001b[0;34m\u001b[0m\u001b[0;34m\u001b[0m\u001b[0m\n\u001b[0;32m---> 16\u001b[0;31m     \u001b[0msig_eff\u001b[0m\u001b[0;34m.\u001b[0m\u001b[0mappend\u001b[0m\u001b[0;34m(\u001b[0m\u001b[0mw_test\u001b[0m\u001b[0;34m[\u001b[0m\u001b[0;34m(\u001b[0m\u001b[0my_test\u001b[0m \u001b[0;34m==\u001b[0m \u001b[0;36m0\u001b[0m\u001b[0;34m)\u001b[0m \u001b[0;34m&\u001b[0m \u001b[0;34m(\u001b[0m\u001b[0myhat_cls\u001b[0m \u001b[0;34m==\u001b[0m \u001b[0;36m0\u001b[0m\u001b[0;34m)\u001b[0m\u001b[0;34m]\u001b[0m\u001b[0;34m.\u001b[0m\u001b[0msum\u001b[0m\u001b[0;34m(\u001b[0m\u001b[0;34m)\u001b[0m \u001b[0;34m/\u001b[0m \u001b[0mw_test\u001b[0m\u001b[0;34m[\u001b[0m\u001b[0my_test\u001b[0m \u001b[0;34m==\u001b[0m \u001b[0;36m0\u001b[0m\u001b[0;34m]\u001b[0m\u001b[0;34m.\u001b[0m\u001b[0msum\u001b[0m\u001b[0;34m(\u001b[0m\u001b[0;34m)\u001b[0m\u001b[0;34m)\u001b[0m\u001b[0;34m\u001b[0m\u001b[0m\n\u001b[0m\u001b[1;32m     17\u001b[0m     \u001b[0;31m# bkg eff = weighted fpr --> out of all bkg events, what % do we classify as signal?\u001b[0m\u001b[0;34m\u001b[0m\u001b[0;34m\u001b[0m\u001b[0m\n\u001b[1;32m     18\u001b[0m     \u001b[0mb_rej\u001b[0m\u001b[0;34m.\u001b[0m\u001b[0mappend\u001b[0m\u001b[0;34m(\u001b[0m\u001b[0;36m1\u001b[0m \u001b[0;34m-\u001b[0m \u001b[0mw_test\u001b[0m\u001b[0;34m[\u001b[0m\u001b[0;34m(\u001b[0m\u001b[0my_test\u001b[0m \u001b[0;34m==\u001b[0m \u001b[0;36m1\u001b[0m\u001b[0;34m)\u001b[0m \u001b[0;34m&\u001b[0m \u001b[0;34m(\u001b[0m\u001b[0myhat_cls\u001b[0m \u001b[0;34m==\u001b[0m \u001b[0;36m0\u001b[0m\u001b[0;34m)\u001b[0m\u001b[0;34m]\u001b[0m\u001b[0;34m.\u001b[0m\u001b[0msum\u001b[0m\u001b[0;34m(\u001b[0m\u001b[0;34m)\u001b[0m \u001b[0;34m/\u001b[0m \u001b[0mw_test\u001b[0m\u001b[0;34m[\u001b[0m\u001b[0my_test\u001b[0m \u001b[0;34m==\u001b[0m \u001b[0;36m1\u001b[0m\u001b[0;34m]\u001b[0m\u001b[0;34m.\u001b[0m\u001b[0msum\u001b[0m\u001b[0;34m(\u001b[0m\u001b[0;34m)\u001b[0m\u001b[0;34m)\u001b[0m\u001b[0;34m\u001b[0m\u001b[0m\n",
      "\u001b[0;31mValueError\u001b[0m: operands could not be broadcast together with shapes (43211,) (411,) "
     ]
    }
   ],
   "source": [
    "a = np.linspace(0,1,100)\n",
    "#print(a)\n",
    "sig_eff = []\n",
    "b_rej = []\n",
    "yhat_cls_1=[]\n",
    "for j in a:\n",
    "    for i in range(0, 411):\n",
    "        if yhat[i][0]>j:\n",
    "            yhat_cls_1.append(0)\n",
    "        else:\n",
    "            yhat_cls_1.append(1)\n",
    "    yhat_cls = np.array(yhat_cls_1)\n",
    "    yhat_cls_1.clear()\n",
    "    #print(w_test[(y_test == 0) & (yhat_cls == 0)].sum() / w_test[y_test == 0].sum())\n",
    "    #print(1- w_test[(y_test == 1) & (yhat_cls == 0)].sum() / w_test[y_test == 1].sum())\n",
    "    sig_eff.append(w_test[(y_test == 0) & (yhat_cls == 0)].sum() / w_test[y_test == 0].sum())\n",
    "    # bkg eff = weighted fpr --> out of all bkg events, what % do we classify as signal?\n",
    "    b_rej.append(1 - w_test[(y_test == 1) & (yhat_cls == 0)].sum() / w_test[y_test == 1].sum())"
   ]
  },
  {
   "cell_type": "code",
   "execution_count": null,
   "metadata": {},
   "outputs": [],
   "source": [
    "w_test_sig= w_test[(y_test == 0)]\n",
    "w_test_bkg= w_test[(y_test == 1)]\n",
    "\n",
    "w_test_bkg[:-1]\n",
    "w_test_bkg2= w_test_bkg[:-1].copy()"
   ]
  },
  {
   "cell_type": "code",
   "execution_count": null,
   "metadata": {},
   "outputs": [],
   "source": [
    "yhat_sig=[]\n",
    "yhat_sig.clear()\n",
    "n=0\n",
    "for i in y_test:\n",
    "    n=n+1\n",
    "    if n<43211:\n",
    "        #print (i)\n",
    "        if i==0:\n",
    "            if yhat[n][0] <0.72:\n",
    "                yhat_sig.append(yhat[n][0])\n",
    "            #print (\"signal = \", yhat[n][0] )\n",
    "       "
   ]
  },
  {
   "cell_type": "code",
   "execution_count": null,
   "metadata": {},
   "outputs": [],
   "source": [
    "yhat_bkg=[]\n",
    "yhat_bkg.clear()\n",
    "n=0\n",
    "for i in y_test:\n",
    "    #print(n)\n",
    "    n=n+1\n",
    "    if n<43211:\n",
    "        if i==1:\n",
    "            if yhat[n][1]> 0.09:\n",
    "                yhat_bkg.append(yhat[n][1])\n",
    "            #print (\"bkg = \", yhat[n][0] )"
   ]
  },
  {
   "cell_type": "code",
   "execution_count": null,
   "metadata": {},
   "outputs": [],
   "source": [
    "ax = plt.subplot(111)\n",
    "plt.hist(yhat_sig, bins=50, density =True, label=\"signal\")\n",
    "\n",
    "plt.hist(yhat_bkg, bins=50, density =True, label=\"background\")\n",
    "plt.xlim([0, 1])\n",
    "plt.ylim([0, 4])\n",
    "plt.ylabel('Events')\n",
    "plt.xlabel('NN score')\n",
    "ax.legend()\n",
    "plt.show()\n"
   ]
  },
  {
   "cell_type": "code",
   "execution_count": null,
   "metadata": {},
   "outputs": [],
   "source": [
    "df_sig['ME_disc_0j'] = np.log10(df_sig['ggHZZ_ME_0j']/(df_sig['ggZZ_ME_0j']+0.1*df_sig['qqZZ_ME_0j']))\n",
    "df_bkg2['ME_disc_0j'] = np.log10(df_bkg2['ggHZZ_ME_0j']/(df_bkg2['ggZZ_ME_0j']+0.1*df_bkg2['qqZZ_ME_0j']))\n",
    "(n_sig, bins_sig, patches_sig) = plt.hist(df_sig['ME_disc_0j'],range=(-5, 0), bins=30, label='hst', weights=df_sig['weight'])\n",
    "(n_bkg, bins_bkg, patches_bkg) = plt.hist(df_bkg2['ME_disc_0j'], range=(-5, 0), bins=30, label='hst', weights=df_bkg2['weight'])\n",
    "a = np.linspace(-5, 0, 30)\n",
    "sig_eff_old = []\n",
    "bkg_rej_old = []\n",
    "total_sig=0\n",
    "total_bkg=0\n",
    "for sig in n_sig:\n",
    "    total_sig = total_sig+sig\n",
    "for bkg in n_bkg:\n",
    "    total_bkg = total_bkg+bkg\n",
    "\n",
    "for j in a:\n",
    "    TP=0\n",
    "    FP =0\n",
    "    for i in range(0, 30):\n",
    "        if bins_sig[i]>j:\n",
    "            TP=TP+n_sig[i]\n",
    "            FP=FP+n_bkg[i]\n",
    "    sig_eff_old.append(TP/total_sig)\n",
    "    bkg_rej_old.append(1-(FP/total_bkg))\n",
    "    "
   ]
  },
  {
   "cell_type": "code",
   "execution_count": null,
   "metadata": {},
   "outputs": [],
   "source": [
    "plt.figure()\n",
    "plt.title('ROC Curve')\n",
    "#plt.plot(sig_eff, b_rej,  label = 'NN discriminant')\n",
    "plt.plot(sig_eff_old, bkg_rej_old, label ='0 jet ME Disc')\n",
    "plt.legend(loc = 'lower left')\n",
    "\n",
    "plt.xlim([0.2, 1])\n",
    "plt.ylim([0, 1.05])\n",
    "plt.ylabel('bkg rejection')\n",
    "plt.xlabel('sig efficiency')\n",
    "plt.show()"
   ]
  },
  {
   "cell_type": "code",
   "execution_count": null,
   "metadata": {},
   "outputs": [],
   "source": []
  },
  {
   "cell_type": "code",
   "execution_count": null,
   "metadata": {},
   "outputs": [],
   "source": []
  }
 ],
 "metadata": {
  "kernelspec": {
   "display_name": "py3-w-ROOT",
   "language": "python",
   "name": "slac_stack"
  },
  "language_info": {
   "codemirror_mode": {
    "name": "ipython",
    "version": 3
   },
   "file_extension": ".py",
   "mimetype": "text/x-python",
   "name": "python",
   "nbconvert_exporter": "python",
   "pygments_lexer": "ipython3",
   "version": "3.6.3"
  }
 },
 "nbformat": 4,
 "nbformat_minor": 2
}
