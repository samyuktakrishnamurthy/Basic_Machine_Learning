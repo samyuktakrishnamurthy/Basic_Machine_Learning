{
 "cells": [
  {
   "cell_type": "code",
   "execution_count": 2,
   "metadata": {},
   "outputs": [],
   "source": [
    "import numpy as np\n",
    "import matplotlib\n",
    "import matplotlib.pyplot as plt\n",
    "import pandas as pd\n",
    "from numpy import trapz\n",
    "\n",
    "%matplotlib inline"
   ]
  },
  {
   "cell_type": "code",
   "execution_count": 17,
   "metadata": {},
   "outputs": [],
   "source": [
    "# Get the required files\n",
    "df_sig = pd.read_hdf('mc16ae_Honly_sig_NN_var.h5', 'df_sig')\n",
    "df_bkg2 = pd.read_hdf('mc16a_qZZ_bkg_NN_var.h5','df_bkg2')\n",
    "#get 1 jet events\n",
    "df_sig1j = df_sig[df_sig['n_jets']==1]\n",
    "df_bkg21j = df_bkg2[df_bkg2['n_jets']==1]"
   ]
  },
  {
   "cell_type": "code",
   "execution_count": 18,
   "metadata": {},
   "outputs": [],
   "source": [
    "#define the log of the ME disc as a new column\n",
    "df_sig['ME_disc_0j'] = np.log10(df_sig['ggHZZ_ME_0j']/(df_sig['ggZZ_ME_0j']+0.1*df_sig['qqZZ_ME_0j']))\n",
    "df_bkg2['ME_disc_0j'] = np.log10(df_bkg2['ggHZZ_ME_0j']/(df_bkg2['ggZZ_ME_0j']+0.1*df_bkg2['qqZZ_ME_0j']))\n",
    "df_sig['label_real'] = 0\n",
    "df_bkg2['label_real'] = 1\n",
    "#df_sig['label_cut'] = 0\n",
    "#df_bkg2['label_cut'] = 1\n",
    "#df_sig.shape"
   ]
  },
  {
   "cell_type": "code",
   "execution_count": 19,
   "metadata": {},
   "outputs": [
    {
     "data": {
      "image/png": "[encoded data removed]",
      "text/plain": [
       "<Figure size 432x288 with 1 Axes>"
      ]
     },
     "metadata": {
      "needs_background": "light"
     },
     "output_type": "display_data"
    }
   ],
   "source": [
    "ax = plt.subplot(111)\n",
    "df_sig['ME_disc_0j'].plot(kind='hist', bins=5, rwidth=0.80,density=False, label='Higgs only signal', weights=df_sig['weight'])\n",
    "df_bkg2['ME_disc_0j'].plot(kind='hist', bins=5, rwidth=0.80, density=False, label='qqZZ bkg', weights=df_bkg2['weight'])\n",
    "plt.title('0 jet ME disc for Higgs only signal and qqZZ background')\n",
    "plt.xlabel('log[0 jet ME]')\n",
    "plt.ylabel('Events')\n",
    "ax.legend()\n",
    "plt.show()"
   ]
  },
  {
   "cell_type": "code",
   "execution_count": 6,
   "metadata": {},
   "outputs": [
    {
     "data": {
      "image/png": "[encoded data removed]",
      "text/plain": [
       "<Figure size 432x288 with 1 Axes>"
      ]
     },
     "metadata": {
      "needs_background": "light"
     },
     "output_type": "display_data"
    }
   ],
   "source": [
    "(n_sig, bins_sig, patches_sig) = plt.hist(df_sig['ME_disc_0j'],range=(-5, 0), bins=10, label='hst', weights=df_sig['weight'])\n",
    "(n_bkg, bins_bkg, patches_bkg) = plt.hist(df_bkg2['ME_disc_0j'], range=(-5, 0), bins=10, label='hst', weights=df_bkg2['weight'])"
   ]
  },
  {
   "cell_type": "code",
   "execution_count": 15,
   "metadata": {},
   "outputs": [
    {
     "name": "stdout",
     "output_type": "stream",
     "text": [
      "11.135290020544831\n"
     ]
    },
    {
     "data": {
      "image/png": "[encoded data removed]",
      "text/plain": [
       "<Figure size 432x288 with 1 Axes>"
      ]
     },
     "metadata": {
      "needs_background": "light"
     },
     "output_type": "display_data"
    }
   ],
   "source": [
    "a = np.linspace(-5, 0, 10)\n",
    "sig_eff_old = []\n",
    "bkg_rej_old = []\n",
    "total_sig=0\n",
    "total_bkg=0\n",
    "for sig in n_sig:\n",
    "    total_sig = total_sig+sig\n",
    "for bkg in n_bkg:\n",
    "    total_bkg = total_bkg+bkg\n",
    "print(total_bkg)\n",
    "for j in a:\n",
    "    TP=0\n",
    "    FP =0\n",
    "    for i in range(0, 10):\n",
    "        if bins_sig[i]>j:\n",
    "            TP=TP+n_sig[i]\n",
    "            FP=FP+n_bkg[i]\n",
    "    sig_eff_old.append(TP/total_sig)\n",
    "    bkg_rej_old.append(1 - (FP/total_bkg))\n",
    "    \n",
    "plt.figure()\n",
    "plt.title('ROC Curve')\n",
    "plt.plot(sig_eff_old, bkg_rej_old)\n",
    "#plt.plot([0, 1], [0, 1],'r--')\n",
    "plt.xlim([0.5, 1])\n",
    "plt.ylim([0, 1.05])\n",
    "plt.ylabel('bkg rejection')\n",
    "plt.xlabel('sig efficiency')\n",
    "plt.show()"
   ]
  },
  {
   "cell_type": "code",
   "execution_count": null,
   "metadata": {},
   "outputs": [],
   "source": [
    "if bins_sig>=j\n",
    "        TP = TP+\n",
    "    for i in range(0, 22856):\n",
    "        if (df['ME_disc_0j'])[i]>j:\n",
    "            labels.append(0)\n",
    "            if (df['label_real'][i] == 0):\n",
    "                TP = TP+1\n",
    "            else:\n",
    "                FP = FP+1\n",
    "        else:\n",
    "            labels.append(1)\n",
    "    \n",
    "    sig_eff_old.append(TP/(df['label_real'] == 0).value_counts())\n",
    "    bkg_rej_old.append(1 - (FP/(df['label_real'] == 1).value_counts()))\n",
    "    #print(sig_eff_old)\n",
    "    #print(bkg_rej_old)"
   ]
  },
  {
   "cell_type": "code",
   "execution_count": 42,
   "metadata": {},
   "outputs": [
    {
     "data": {
      "text/plain": [
       "array([-5.        , -4.66666667, -4.33333333, -4.        , -3.66666667,\n",
       "       -3.33333333, -3.        , -2.66666667, -2.33333333, -2.        ,\n",
       "       -1.66666667, -1.33333333, -1.        , -0.66666667, -0.33333333,\n",
       "        0.        ])"
      ]
     },
     "execution_count": 42,
     "metadata": {},
     "output_type": "execute_result"
    }
   ],
   "source": []
  },
  {
   "cell_type": "code",
   "execution_count": 5,
   "metadata": {},
   "outputs": [],
   "source": [
    "df= pd.concat((df_sig, df_bkg2), ignore_index=True)\n",
    "#df.shape"
   ]
  },
  {
   "cell_type": "code",
   "execution_count": 22,
   "metadata": {},
   "outputs": [],
   "source": [
    "a = np.linspace(-5.5,0.5,100)\n",
    "#print(a)\n",
    "sig_eff_old = []\n",
    "bkg_rej_old = []\n",
    "labels=[]\n",
    "for j in a:\n",
    "    #print(j)\n",
    "    TP =0\n",
    "    FP =0\n",
    "    for i in range(0, 22856):\n",
    "        if (df['ME_disc_0j'])[i]>j:\n",
    "            labels.append(0)\n",
    "            if (df['label_real'][i] == 0):\n",
    "                TP = TP+1\n",
    "            else:\n",
    "                FP = FP+1\n",
    "        else:\n",
    "            labels.append(1)\n",
    "    \n",
    "    sig_eff_old.append(TP/(df['label_real'] == 0).value_counts())\n",
    "    bkg_rej_old.append(1 - (FP/(df['label_real'] == 1).value_counts()))\n",
    "    #print(sig_eff_old)\n",
    "    #print(bkg_rej_old)\n"
   ]
  },
  {
   "cell_type": "code",
   "execution_count": 23,
   "metadata": {},
   "outputs": [
    {
     "data": {
      "image/png": "[encoded data removed]",
      "text/plain": [
       "<Figure size 432x288 with 1 Axes>"
      ]
     },
     "metadata": {
      "needs_background": "light"
     },
     "output_type": "display_data"
    }
   ],
   "source": [
    "plt.figure()\n",
    "plt.title('ROC Curve')\n",
    "plt.plot(sig_eff_old, bkg_rej_old)\n",
    "#plt.plot([0, 1], [0, 1],'r--')\n",
    "plt.xlim([0.5, 1])\n",
    "plt.ylim([0, 1.05])\n",
    "plt.ylabel('bkg rejection')\n",
    "plt.xlabel('sig efficiency')\n",
    "plt.show()\n"
   ]
  },
  {
   "cell_type": "code",
   "execution_count": null,
   "metadata": {},
   "outputs": [],
   "source": []
  }
 ],
 "metadata": {
  "kernelspec": {
   "display_name": "py3-w-ROOT",
   "language": "python",
   "name": "slac_stack"
  },
  "language_info": {
   "codemirror_mode": {
    "name": "ipython",
    "version": 3
   },
   "file_extension": ".py",
   "mimetype": "text/x-python",
   "name": "python",
   "nbconvert_exporter": "python",
   "pygments_lexer": "ipython3",
   "version": "3.6.3"
  }
 },
 "nbformat": 4,
 "nbformat_minor": 2
}
