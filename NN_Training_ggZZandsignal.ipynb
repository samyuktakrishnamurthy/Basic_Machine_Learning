{
 "cells": [
  {
   "cell_type": "code",
   "execution_count": 1,
   "metadata": {},
   "outputs": [],
   "source": [
    "import numpy as np\n",
    "import matplotlib\n",
    "import matplotlib.pyplot as plt\n",
    "import pandas as pd\n",
    "from keras.models import Model\n",
    "from keras.layers import Dense, Dropout, Input\n",
    "from sklearn.model_selection import train_test_split\n",
    "from keras.utils.vis_utils import plot_model\n",
    "from keras.callbacks import EarlyStopping, ModelCheckpoint\n",
    "import itertools\n",
    "from sklearn.metrics import confusion_matrix\n",
    "from sklearn.metrics import roc_curve, auc\n",
    "import sys \n",
    "from numpy import trapz\n",
    "from scipy import interp\n",
    "\n",
    "%matplotlib inline"
   ]
  },
  {
   "cell_type": "code",
   "execution_count": 2,
   "metadata": {},
   "outputs": [],
   "source": [
    "# Get the required files\n",
    "df_sig = pd.read_hdf('mc16ae_Honly_sig_NN_var.h5', 'df_sig')\n",
    "df_bkg = pd.read_hdf('mc16a_ggZZ_bkg_NN_var.h5','df_bkg')\n",
    "#get 1 jet events\n",
    "df_sig1j = df_sig[df_sig['n_jets']==1]\n",
    "df_bkg1j = df_bkg[df_bkg['n_jets']==1]"
   ]
  },
  {
   "cell_type": "code",
   "execution_count": 3,
   "metadata": {},
   "outputs": [],
   "source": [
    "#define the discriminant\n",
    "df_sig['ME_disc_0j'] = np.log10(df_sig['ggHZZ_ME_0j']/(df_sig['ggZZ_ME_0j']+0.1*df_sig['qqZZ_ME_0j']))\n",
    "df_bkg['ME_disc_0j'] = np.log10(df_bkg['ggHZZ_ME_0j']/(df_bkg['ggZZ_ME_0j']+0.1*df_bkg['qqZZ_ME_0j']))"
   ]
  },
  {
   "cell_type": "code",
   "execution_count": 4,
   "metadata": {},
   "outputs": [],
   "source": [
    "# names of event-level branches\n",
    "npart = [\"ME_disc_0j\",\"m4l_unconstrained\",\"cos_theta_str\",\"cos_theta_1\",\"pt4l_fsr\",\"phi\",\"phi_1\",\"Z1_m\",\"Z2_m\",\"n_jets\"]"
   ]
  },
  {
   "cell_type": "code",
   "execution_count": 5,
   "metadata": {},
   "outputs": [
    {
     "name": "stderr",
     "output_type": "stream",
     "text": [
      "/opt/rh/rh-python36/root/usr/lib/python3.6/site-packages/ipykernel/__main__.py:3: FutureWarning: Method .as_matrix will be removed in a future version. Use .values instead.\n",
      "  app.launch_new_instance()\n"
     ]
    }
   ],
   "source": [
    "df= pd.concat((df_sig[npart], df_bkg[npart]), ignore_index=True)\n",
    "\n",
    "X = df.as_matrix()\n",
    "w =  pd.concat((df_sig['weight'], df_bkg['weight']), ignore_index=True).values\n",
    "y = []\n",
    "for _df, ID in [(df_sig, 0), (df_bkg, 1)]:\n",
    "    y.extend([ID] * _df.shape[0])\n",
    "y = np.array(y)"
   ]
  },
  {
   "cell_type": "code",
   "execution_count": 6,
   "metadata": {},
   "outputs": [
    {
     "name": "stderr",
     "output_type": "stream",
     "text": [
      "/opt/rh/rh-python36/root/usr/lib64/python3.6/site-packages/sklearn/model_selection/_split.py:2179: FutureWarning: From version 0.21, test_size will always complement train_size unless both are specified.\n",
      "  FutureWarning)\n"
     ]
    }
   ],
   "source": [
    "ix = range(X.shape[0])\n",
    "X_train, X_test, y_train, y_test, w_train, w_test, ix_train, ix_test = train_test_split(X, y, w, ix, train_size=0.4)"
   ]
  },
  {
   "cell_type": "code",
   "execution_count": 7,
   "metadata": {},
   "outputs": [],
   "source": [
    "from sklearn.preprocessing import StandardScaler\n",
    "scaler = StandardScaler()\n",
    "X_train = scaler.fit_transform(X_train)\n",
    "X_test = scaler.transform(X_test)"
   ]
  },
  {
   "cell_type": "code",
   "execution_count": 8,
   "metadata": {},
   "outputs": [
    {
     "name": "stdout",
     "output_type": "stream",
     "text": [
      "WARNING:tensorflow:From /opt/rh/rh-python36/root/usr/lib/python3.6/site-packages/tensorflow/python/framework/op_def_library.py:263: colocate_with (from tensorflow.python.framework.ops) is deprecated and will be removed in a future version.\n",
      "Instructions for updating:\n",
      "Colocations handled automatically by placer.\n",
      "_________________________________________________________________\n",
      "Layer (type)                 Output Shape              Param #   \n",
      "=================================================================\n",
      "input_1 (InputLayer)         (None, 10)                0         \n",
      "_________________________________________________________________\n",
      "dense_1 (Dense)              (None, 2)                 22        \n",
      "_________________________________________________________________\n",
      "dense_2 (Dense)              (None, 2)                 6         \n",
      "=================================================================\n",
      "Total params: 28\n",
      "Trainable params: 28\n",
      "Non-trainable params: 0\n",
      "_________________________________________________________________\n"
     ]
    }
   ],
   "source": [
    "inputs = Input(shape=(X_train.shape[1], )) # placeholder\n",
    "\n",
    "hidden = Dense(2, activation='relu')(inputs)\n",
    "#hidden = Dropout(0.2)(hidden)\n",
    "#hidden = Dense(20, activation='relu')(hidden)\n",
    "#hidden = Dropout(0.2)(hidden)\n",
    "#hidden = Dense(30, activation='relu')(hidden)\n",
    "#hidden = Dropout(0.2)(hidden)\n",
    "outputs = Dense(2, activation='sigmoid')(hidden)\n",
    "# last layer has to have the same dimensionality as the number of classes we want to predict, here 3\n",
    "\n",
    "model = Model(inputs, outputs)\n",
    "model.summary()\n",
    "plot_model(model, 'temp.png', show_shapes=True)"
   ]
  },
  {
   "cell_type": "code",
   "execution_count": 9,
   "metadata": {},
   "outputs": [],
   "source": [
    "model.compile('adam', 'sparse_categorical_crossentropy', metrics=['accuracy'])"
   ]
  },
  {
   "cell_type": "code",
   "execution_count": 10,
   "metadata": {},
   "outputs": [
    {
     "data": {
      "text/plain": [
       "Counter({1: 33137, 0: 17292})"
      ]
     },
     "execution_count": 10,
     "metadata": {},
     "output_type": "execute_result"
    }
   ],
   "source": [
    "from collections import Counter\n",
    "Counter(y_test)"
   ]
  },
  {
   "cell_type": "code",
   "execution_count": 28,
   "metadata": {},
   "outputs": [
    {
     "name": "stdout",
     "output_type": "stream",
     "text": [
      "Training:\n",
      "\n",
      "Epoch 00001: val_loss improved from inf to 0.44338, saving model to ./tutorial-progress.h5\n",
      "\n",
      "Epoch 00002: val_loss did not improve from 0.44338\n",
      "\n",
      "Epoch 00003: val_loss improved from 0.44338 to 0.44335, saving model to ./tutorial-progress.h5\n",
      "\n",
      "Epoch 00004: val_loss did not improve from 0.44335\n",
      "\n",
      "Epoch 00005: val_loss did not improve from 0.44335\n",
      "\n",
      "Epoch 00006: val_loss did not improve from 0.44335\n",
      "\n",
      "Epoch 00007: val_loss improved from 0.44335 to 0.44334, saving model to ./tutorial-progress.h5\n",
      "\n",
      "Epoch 00008: val_loss improved from 0.44334 to 0.44334, saving model to ./tutorial-progress.h5\n",
      "\n",
      "Epoch 00009: val_loss did not improve from 0.44334\n",
      "\n",
      "Epoch 00010: val_loss did not improve from 0.44334\n",
      "\n",
      "Epoch 00011: val_loss did not improve from 0.44334\n",
      "\n",
      "Epoch 00012: val_loss did not improve from 0.44334\n",
      "\n",
      "Epoch 00013: val_loss did not improve from 0.44334\n",
      "\n",
      "Epoch 00014: val_loss did not improve from 0.44334\n",
      "\n",
      "Epoch 00015: val_loss did not improve from 0.44334\n",
      "\n",
      "Epoch 00016: val_loss did not improve from 0.44334\n",
      "\n",
      "Epoch 00017: val_loss did not improve from 0.44334\n",
      "\n",
      "Epoch 00018: val_loss did not improve from 0.44334\n",
      "\n",
      "Epoch 00019: val_loss did not improve from 0.44334\n",
      "\n",
      "Epoch 00020: val_loss did not improve from 0.44334\n",
      "\n",
      "Epoch 00021: val_loss did not improve from 0.44334\n",
      "\n",
      "Epoch 00022: val_loss did not improve from 0.44334\n",
      "\n",
      "Epoch 00023: val_loss did not improve from 0.44334\n",
      "Epoch 00023: early stopping\n"
     ]
    }
   ],
   "source": [
    "print ('Training:')\n",
    "try:\n",
    "    history = model.fit(\n",
    "        X_train, y_train, \n",
    "        class_weight={ # rebalance class representation\n",
    "            0 : 0.35 * (float(len(y)) / (y == 0).sum()),\n",
    "            1 : 0.65 * (float(len(y)) / (y == 1).sum()), },\n",
    "        callbacks = [\n",
    "            EarlyStopping(verbose=True, patience=15, monitor='val_loss'),\n",
    "            ModelCheckpoint('./tutorial-progress.h5', monitor='val_loss', verbose=True, save_best_only=True)\n",
    "        ],\n",
    "        epochs=100, \n",
    "        validation_split = 0.5,\n",
    "        batch_size=100,\n",
    "        verbose=False)\n",
    "except KeyboardInterrupt:\n",
    "    print('Training ended early.')"
   ]
  },
  {
   "cell_type": "code",
   "execution_count": 29,
   "metadata": {},
   "outputs": [
    {
     "data": {
      "image/png": "[encoded data removed]",
      "text/plain": [
       "<Figure size 432x288 with 1 Axes>"
      ]
     },
     "metadata": {
      "needs_background": "light"
     },
     "output_type": "display_data"
    }
   ],
   "source": [
    "plt.plot(history.history['loss'])\n",
    "plt.plot(history.history['val_loss'])\n",
    "plt.title('model loss')\n",
    "plt.ylabel('loss')\n",
    "plt.xlabel('epoch')\n",
    "plt.legend(['train', 'test'], loc='upper right')\n",
    "plt.show()"
   ]
  },
  {
   "cell_type": "code",
   "execution_count": 30,
   "metadata": {},
   "outputs": [
    {
     "name": "stdout",
     "output_type": "stream",
     "text": [
      "Saving model...\n",
      "Done\n"
     ]
    }
   ],
   "source": [
    "# -- load in best network\n",
    "model.load_weights('./tutorial-progress.h5')\n",
    "# -- Save network weights and structure\n",
    "print( 'Saving model...')\n",
    "model.save_weights('./tutorial.h5', overwrite=True)\n",
    "json_string = model.to_json()\n",
    "open('./tutorial.json', 'w').write(json_string)\n",
    "print ('Done')"
   ]
  },
  {
   "cell_type": "code",
   "execution_count": 31,
   "metadata": {},
   "outputs": [
    {
     "name": "stdout",
     "output_type": "stream",
     "text": [
      "Testing...\n",
      "50429/50429 [==============================] - 0s 2us/step\n"
     ]
    }
   ],
   "source": [
    "print ('Testing...')\n",
    "yhat = model.predict(X_test, verbose = True, batch_size = 400)"
   ]
  },
  {
   "cell_type": "code",
   "execution_count": 32,
   "metadata": {},
   "outputs": [],
   "source": [
    "a = np.linspace(0,1,100)\n",
    "#print(a)\n",
    "sig_eff = []\n",
    "b_rej = []\n",
    "yhat_cls_1=[]\n",
    "for j in a:\n",
    "    for i in range(0, len(yhat)):\n",
    "        \n",
    "        if yhat[i][0]>j:\n",
    "            yhat_cls_1.append(0)\n",
    "        else:\n",
    "            yhat_cls_1.append(1)\n",
    "    yhat_cls = np.array(yhat_cls_1)\n",
    "    yhat_cls_1.clear()\n",
    "    #print(w_test[(y_test == 0) & (yhat_cls == 0)].sum() / w_test[y_test == 0].sum())\n",
    "    #print(1- w_test[(y_test == 1) & (yhat_cls == 0)].sum() / w_test[y_test == 1].sum())\n",
    "    sig_eff.append(w_test[(y_test == 0) & (yhat_cls == 0)].sum() / w_test[y_test == 0].sum())\n",
    "    # bkg eff = weighted fpr --> out of all bkg events, what % do we classify as signal?\n",
    "    b_rej.append(1 - w_test[(y_test == 1) & (yhat_cls == 0)].sum() / w_test[y_test == 1].sum())"
   ]
  },
  {
   "cell_type": "code",
   "execution_count": 33,
   "metadata": {},
   "outputs": [
    {
     "data": {
      "image/png": "[encoded data removed]",
      "text/plain": [
       "<Figure size 432x288 with 1 Axes>"
      ]
     },
     "metadata": {
      "needs_background": "light"
     },
     "output_type": "display_data"
    }
   ],
   "source": [
    "df_sig['ME_disc_0j'] = np.log10(df_sig['ggHZZ_ME_0j']/(df_sig['ggZZ_ME_0j']+0.1*df_sig['qqZZ_ME_0j']))\n",
    "df_bkg['ME_disc_0j'] = np.log10(df_bkg['ggHZZ_ME_0j']/(df_bkg['ggZZ_ME_0j']+0.1*df_bkg['qqZZ_ME_0j']))\n",
    "(n_sig, bins_sig, patches_sig) = plt.hist(df_sig['ME_disc_0j'],range=(-5, 0), bins=30, label='hst', weights=df_sig['weight'])\n",
    "(n_bkg, bins_bkg, patches_bkg) = plt.hist(df_bkg['ME_disc_0j'], range=(-5, 0), bins=30, label='hst', weights=df_bkg['weight'])\n",
    "a = np.linspace(-5, 0, 30)\n",
    "sig_eff_old = []\n",
    "bkg_rej_old = []\n",
    "total_sig=0\n",
    "total_bkg=0\n",
    "for sig in n_sig:\n",
    "    total_sig = total_sig+sig\n",
    "for bkg in n_bkg:\n",
    "    total_bkg = total_bkg+bkg\n",
    "\n",
    "for j in a:\n",
    "    TP=0\n",
    "    FP =0\n",
    "    for i in range(0, 30):\n",
    "        if bins_sig[i]>j:\n",
    "            TP=TP+n_sig[i]\n",
    "            FP=FP+n_bkg[i]\n",
    "    sig_eff_old.append(TP/total_sig)\n",
    "    bkg_rej_old.append(1-(FP/total_bkg))\n",
    "    "
   ]
  },
  {
   "cell_type": "code",
   "execution_count": 34,
   "metadata": {},
   "outputs": [
    {
     "data": {
      "image/png": "[encoded data removed]",
      "text/plain": [
       "<Figure size 432x288 with 1 Axes>"
      ]
     },
     "metadata": {
      "needs_background": "light"
     },
     "output_type": "display_data"
    }
   ],
   "source": [
    "plt.figure()\n",
    "plt.title('ROC Curve')\n",
    "plt.plot(sig_eff, b_rej,  label = 'NN discriminant')\n",
    "plt.plot(sig_eff_old, bkg_rej_old, label ='0 jet ME Disc')\n",
    "plt.legend(loc = 'lower left')\n",
    "\n",
    "plt.xlim([0.7, 1])\n",
    "plt.ylim([0, 1.05])\n",
    "plt.ylabel('bkg rejection')\n",
    "plt.xlabel('sig efficiency')\n",
    "plt.show()"
   ]
  },
  {
   "cell_type": "code",
   "execution_count": 35,
   "metadata": {},
   "outputs": [],
   "source": [
    "yhat_sig=[]\n",
    "yhat_sig.clear()\n",
    "n=0\n",
    "for i in y_test:\n",
    "    n=n+1\n",
    "    if n<43211:\n",
    "        #print (i)\n",
    "        if i==0:\n",
    "            if yhat[n][0] <0.72:\n",
    "                yhat_sig.append(yhat[n][0])\n",
    "            #print (\"signal = \", yhat[n][0] )"
   ]
  },
  {
   "cell_type": "code",
   "execution_count": 36,
   "metadata": {},
   "outputs": [],
   "source": [
    "yhat_bkg=[]\n",
    "yhat_bkg.clear()\n",
    "n=0\n",
    "for i in y_test:\n",
    "    #print(n)\n",
    "    n=n+1\n",
    "    if n<43211:\n",
    "        if i==1:\n",
    "            if yhat[n][1]> 0.09:\n",
    "                yhat_bkg.append(yhat[n][1])\n",
    "            #print (\"bkg = \", yhat[n][0] )"
   ]
  },
  {
   "cell_type": "code",
   "execution_count": 37,
   "metadata": {},
   "outputs": [
    {
     "data": {
      "image/png": "[encoded data removed]",
      "text/plain": [
       "<Figure size 432x288 with 1 Axes>"
      ]
     },
     "metadata": {
      "needs_background": "light"
     },
     "output_type": "display_data"
    }
   ],
   "source": [
    "ax = plt.subplot(111)\n",
    "plt.hist(yhat_sig, bins=50, density =True, label=\"signal\")\n",
    "\n",
    "plt.hist(yhat_bkg, bins=50, density =True, label=\"background\")\n",
    "plt.xlim([0, 0.6])\n",
    "plt.ylim([0, 15])\n",
    "plt.ylabel('Events')\n",
    "plt.xlabel('NN score')\n",
    "ax.legend()\n",
    "plt.show()\n"
   ]
  },
  {
   "cell_type": "code",
   "execution_count": 38,
   "metadata": {},
   "outputs": [
    {
     "ename": "ValueError",
     "evalue": "operands could not be broadcast together with shapes (50429,) (43211,) ",
     "output_type": "error",
     "traceback": [
      "\u001b[0;31m---------------------------------------------------------------------------\u001b[0m",
      "\u001b[0;31mValueError\u001b[0m                                Traceback (most recent call last)",
      "\u001b[0;32m<ipython-input-38-be9c5f62a294>\u001b[0m in \u001b[0;36m<module>\u001b[0;34m\u001b[0m\n\u001b[1;32m     14\u001b[0m     \u001b[0;31m#print(w_test[(y_test == 0) & (yhat_cls == 0)].sum() / w_test[y_test == 0].sum())\u001b[0m\u001b[0;34m\u001b[0m\u001b[0;34m\u001b[0m\u001b[0m\n\u001b[1;32m     15\u001b[0m     \u001b[0;31m#print(1- w_test[(y_test == 1) & (yhat_cls == 0)].sum() / w_test[y_test == 1].sum())\u001b[0m\u001b[0;34m\u001b[0m\u001b[0;34m\u001b[0m\u001b[0m\n\u001b[0;32m---> 16\u001b[0;31m     \u001b[0msig_eff\u001b[0m\u001b[0;34m.\u001b[0m\u001b[0mappend\u001b[0m\u001b[0;34m(\u001b[0m\u001b[0mw_test\u001b[0m\u001b[0;34m[\u001b[0m\u001b[0;34m(\u001b[0m\u001b[0my_test\u001b[0m \u001b[0;34m==\u001b[0m \u001b[0;36m0\u001b[0m\u001b[0;34m)\u001b[0m \u001b[0;34m&\u001b[0m \u001b[0;34m(\u001b[0m\u001b[0myhat_cls\u001b[0m \u001b[0;34m==\u001b[0m \u001b[0;36m0\u001b[0m\u001b[0;34m)\u001b[0m\u001b[0;34m]\u001b[0m\u001b[0;34m.\u001b[0m\u001b[0msum\u001b[0m\u001b[0;34m(\u001b[0m\u001b[0;34m)\u001b[0m \u001b[0;34m/\u001b[0m \u001b[0mw_test\u001b[0m\u001b[0;34m[\u001b[0m\u001b[0my_test\u001b[0m \u001b[0;34m==\u001b[0m \u001b[0;36m0\u001b[0m\u001b[0;34m]\u001b[0m\u001b[0;34m.\u001b[0m\u001b[0msum\u001b[0m\u001b[0;34m(\u001b[0m\u001b[0;34m)\u001b[0m\u001b[0;34m)\u001b[0m\u001b[0;34m\u001b[0m\u001b[0m\n\u001b[0m\u001b[1;32m     17\u001b[0m     \u001b[0;31m# bkg eff = weighted fpr --> out of all bkg events, what % do we classify as signal?\u001b[0m\u001b[0;34m\u001b[0m\u001b[0;34m\u001b[0m\u001b[0m\n\u001b[1;32m     18\u001b[0m     \u001b[0mb_rej\u001b[0m\u001b[0;34m.\u001b[0m\u001b[0mappend\u001b[0m\u001b[0;34m(\u001b[0m\u001b[0;36m1\u001b[0m \u001b[0;34m-\u001b[0m \u001b[0mw_test\u001b[0m\u001b[0;34m[\u001b[0m\u001b[0;34m(\u001b[0m\u001b[0my_test\u001b[0m \u001b[0;34m==\u001b[0m \u001b[0;36m1\u001b[0m\u001b[0;34m)\u001b[0m \u001b[0;34m&\u001b[0m \u001b[0;34m(\u001b[0m\u001b[0myhat_cls\u001b[0m \u001b[0;34m==\u001b[0m \u001b[0;36m0\u001b[0m\u001b[0;34m)\u001b[0m\u001b[0;34m]\u001b[0m\u001b[0;34m.\u001b[0m\u001b[0msum\u001b[0m\u001b[0;34m(\u001b[0m\u001b[0;34m)\u001b[0m \u001b[0;34m/\u001b[0m \u001b[0mw_test\u001b[0m\u001b[0;34m[\u001b[0m\u001b[0my_test\u001b[0m \u001b[0;34m==\u001b[0m \u001b[0;36m1\u001b[0m\u001b[0;34m]\u001b[0m\u001b[0;34m.\u001b[0m\u001b[0msum\u001b[0m\u001b[0;34m(\u001b[0m\u001b[0;34m)\u001b[0m\u001b[0;34m)\u001b[0m\u001b[0;34m\u001b[0m\u001b[0m\n",
      "\u001b[0;31mValueError\u001b[0m: operands could not be broadcast together with shapes (50429,) (43211,) "
     ]
    }
   ],
   "source": [
    "a = np.linspace(0,1,100)\n",
    "#print(a)\n",
    "sig_eff = []\n",
    "b_rej = []\n",
    "yhat_cls_1=[]\n",
    "for j in a:\n",
    "    for i in range(0, 43211):\n",
    "        if yhat[i][0]>j:\n",
    "            yhat_cls_1.append(0)\n",
    "        else:\n",
    "            yhat_cls_1.append(1)\n",
    "    yhat_cls = np.array(yhat_cls_1)\n",
    "    yhat_cls_1.clear()\n",
    "    #print(w_test[(y_test == 0) & (yhat_cls == 0)].sum() / w_test[y_test == 0].sum())\n",
    "    #print(1- w_test[(y_test == 1) & (yhat_cls == 0)].sum() / w_test[y_test == 1].sum())\n",
    "    sig_eff.append(w_test[(y_test == 0) & (yhat_cls == 0)].sum() / w_test[y_test == 0].sum())\n",
    "    # bkg eff = weighted fpr --> out of all bkg events, what % do we classify as signal?\n",
    "    b_rej.append(1 - w_test[(y_test == 1) & (yhat_cls == 0)].sum() / w_test[y_test == 1].sum())"
   ]
  },
  {
   "cell_type": "code",
   "execution_count": null,
   "metadata": {},
   "outputs": [],
   "source": [
    "w_test_sig= w_test[(y_test == 0)]\n",
    "w_test_bkg= w_test[(y_test == 1)]\n",
    "\n",
    "w_test_bkg[:-1]\n",
    "w_test_bkg2= w_test_bkg[:-1].copy()"
   ]
  },
  {
   "cell_type": "code",
   "execution_count": null,
   "metadata": {},
   "outputs": [],
   "source": [
    "yhat_sig=[]\n",
    "yhat_sig.clear()\n",
    "n=0\n",
    "for i in y_test:\n",
    "    n=n+1\n",
    "    if n<43211:\n",
    "        #print (i)\n",
    "        if i==0:\n",
    "            if yhat[n][0] <0.72:\n",
    "                yhat_sig.append(yhat[n][0])\n",
    "            #print (\"signal = \", yhat[n][0] )\n",
    "       "
   ]
  },
  {
   "cell_type": "code",
   "execution_count": null,
   "metadata": {},
   "outputs": [],
   "source": [
    "yhat_bkg=[]\n",
    "yhat_bkg.clear()\n",
    "n=0\n",
    "for i in y_test:\n",
    "    #print(n)\n",
    "    n=n+1\n",
    "    if n<43211:\n",
    "        if i==1:\n",
    "            if yhat[n][1]> 0.09:\n",
    "                yhat_bkg.append(yhat[n][1])\n",
    "            #print (\"bkg = \", yhat[n][0] )"
   ]
  },
  {
   "cell_type": "code",
   "execution_count": null,
   "metadata": {},
   "outputs": [],
   "source": [
    "ax = plt.subplot(111)\n",
    "plt.hist(yhat_sig, bins=50, density =True, label=\"signal\")\n",
    "\n",
    "plt.hist(yhat_bkg, bins=50, density =True, label=\"background\")\n",
    "plt.xlim([0, 1])\n",
    "plt.ylim([0, 4])\n",
    "plt.ylabel('Events')\n",
    "plt.xlabel('NN score')\n",
    "ax.legend()\n",
    "plt.show()\n"
   ]
  },
  {
   "cell_type": "code",
   "execution_count": null,
   "metadata": {},
   "outputs": [],
   "source": [
    "df_sig['ME_disc_0j'] = np.log10(df_sig['ggHZZ_ME_0j']/(df_sig['ggZZ_ME_0j']+0.1*df_sig['qqZZ_ME_0j']))\n",
    "df_bkg2['ME_disc_0j'] = np.log10(df_bkg2['ggHZZ_ME_0j']/(df_bkg2['ggZZ_ME_0j']+0.1*df_bkg2['qqZZ_ME_0j']))\n",
    "(n_sig, bins_sig, patches_sig) = plt.hist(df_sig['ME_disc_0j'],range=(-5, 0), bins=30, label='hst', weights=df_sig['weight'])\n",
    "(n_bkg, bins_bkg, patches_bkg) = plt.hist(df_bkg2['ME_disc_0j'], range=(-5, 0), bins=30, label='hst', weights=df_bkg2['weight'])\n",
    "a = np.linspace(-5, 0, 30)\n",
    "sig_eff_old = []\n",
    "bkg_rej_old = []\n",
    "total_sig=0\n",
    "total_bkg=0\n",
    "for sig in n_sig:\n",
    "    total_sig = total_sig+sig\n",
    "for bkg in n_bkg:\n",
    "    total_bkg = total_bkg+bkg\n",
    "\n",
    "for j in a:\n",
    "    TP=0\n",
    "    FP =0\n",
    "    for i in range(0, 30):\n",
    "        if bins_sig[i]>j:\n",
    "            TP=TP+n_sig[i]\n",
    "            FP=FP+n_bkg[i]\n",
    "    sig_eff_old.append(TP/total_sig)\n",
    "    bkg_rej_old.append(1-(FP/total_bkg))\n",
    "    "
   ]
  },
  {
   "cell_type": "code",
   "execution_count": null,
   "metadata": {},
   "outputs": [],
   "source": [
    "plt.figure()\n",
    "plt.title('ROC Curve')\n",
    "#plt.plot(sig_eff, b_rej,  label = 'NN discriminant')\n",
    "plt.plot(sig_eff_old, bkg_rej_old, label ='0 jet ME Disc')\n",
    "plt.legend(loc = 'lower left')\n",
    "\n",
    "plt.xlim([0.2, 1])\n",
    "plt.ylim([0, 1.05])\n",
    "plt.ylabel('bkg rejection')\n",
    "plt.xlabel('sig efficiency')\n",
    "plt.show()"
   ]
  },
  {
   "cell_type": "code",
   "execution_count": null,
   "metadata": {},
   "outputs": [],
   "source": []
  },
  {
   "cell_type": "code",
   "execution_count": null,
   "metadata": {},
   "outputs": [],
   "source": []
  }
 ],
 "metadata": {
  "kernelspec": {
   "display_name": "py3-w-ROOT",
   "language": "python",
   "name": "slac_stack"
  },
  "language_info": {
   "codemirror_mode": {
    "name": "ipython",
    "version": 3
   },
   "file_extension": ".py",
   "mimetype": "text/x-python",
   "name": "python",
   "nbconvert_exporter": "python",
   "pygments_lexer": "ipython3",
   "version": "3.6.3"
  }
 },
 "nbformat": 4,
 "nbformat_minor": 2
}
