{
 "cells": [
  {
   "cell_type": "code",
   "execution_count": 1,
   "metadata": {},
   "outputs": [],
   "source": [
    "import numpy as np\n",
    "import matplotlib\n",
    "import matplotlib.pyplot as plt\n",
    "import pandas as pd\n",
    "from keras.models import Model\n",
    "from keras.layers import Dense, Dropout, Input\n",
    "from sklearn.model_selection import train_test_split\n",
    "from keras.utils.vis_utils import plot_model\n",
    "from keras.callbacks import EarlyStopping, ModelCheckpoint\n",
    "import itertools\n",
    "from sklearn.metrics import confusion_matrix\n",
    "from sklearn.metrics import roc_curve, auc\n",
    "import sys \n",
    "from numpy import trapz\n",
    "\n",
    "%matplotlib inline"
   ]
  },
  {
   "cell_type": "code",
   "execution_count": 2,
   "metadata": {},
   "outputs": [],
   "source": [
    "# Get the required files\n",
    "df_sig = pd.read_hdf('mc16ae_Honly_sig_NN_var.h5', 'df_sig')\n",
    "df_bkg2 = pd.read_hdf('mc16a_qZZ_bkg_NN_var.h5','df_bkg2')\n",
    "#get 1 jet events\n",
    "df_sig1j = df_sig[df_sig['n_jets']==1]\n",
    "df_bkg21j = df_bkg2[df_bkg2['n_jets']==1]"
   ]
  },
  {
   "cell_type": "code",
   "execution_count": 41,
   "metadata": {},
   "outputs": [],
   "source": [
    "#define the discriminant\n",
    "df_sig['ME_disc_0j'] = np.log10(df_sig['ggHZZ_ME_0j']/(df_sig['ggZZ_ME_0j']+0.1*df_sig['qqZZ_ME_0j']))\n",
    "df_bkg2['ME_disc_0j'] = np.log10(df_bkg2['ggHZZ_ME_0j']/(df_bkg2['ggZZ_ME_0j']+0.1*df_bkg2['qqZZ_ME_0j']))"
   ]
  },
  {
   "cell_type": "code",
   "execution_count": 3,
   "metadata": {},
   "outputs": [],
   "source": [
    "# names of event-level branches\n",
    "npart = [\"ggZZ_ME_0j\",\"ggHZZ_ME_0j\",\"qqZZ_ME_0j\",\"m4l_unconstrained\",\"cos_theta_str\",\"cos_theta_1\",\"pt4l_fsr\",\"phi\",\"phi_1\",\"Z1_m\",\"Z2_m\",\"n_jets\"]"
   ]
  },
  {
   "cell_type": "code",
   "execution_count": 4,
   "metadata": {},
   "outputs": [
    {
     "name": "stderr",
     "output_type": "stream",
     "text": [
      "/opt/rh/rh-python36/root/usr/lib/python3.6/site-packages/ipykernel/__main__.py:3: FutureWarning: Method .as_matrix will be removed in a future version. Use .values instead.\n",
      "  app.launch_new_instance()\n"
     ]
    }
   ],
   "source": [
    "df= pd.concat((df_sig[npart], df_bkg2[npart]), ignore_index=True)\n",
    "#df.head()\n",
    "X = df.as_matrix()\n",
    "w =  pd.concat((df_sig['weight'], df_bkg2['weight']), ignore_index=True).values\n",
    "y = []\n",
    "for _df, ID in [(df_sig, 0), (df_bkg2, 1)]:\n",
    "    y.extend([ID] * _df.shape[0])\n",
    "y = np.array(y)"
   ]
  },
  {
   "cell_type": "code",
   "execution_count": 5,
   "metadata": {},
   "outputs": [
    {
     "name": "stderr",
     "output_type": "stream",
     "text": [
      "/opt/rh/rh-python36/root/usr/lib64/python3.6/site-packages/sklearn/model_selection/_split.py:2179: FutureWarning: From version 0.21, test_size will always complement train_size unless both are specified.\n",
      "  FutureWarning)\n"
     ]
    }
   ],
   "source": [
    "ix = range(X.shape[0])\n",
    "X_train, X_test, y_train, y_test, w_train, w_test, ix_train, ix_test = train_test_split(X, y, w, ix, train_size=0.5)"
   ]
  },
  {
   "cell_type": "code",
   "execution_count": 6,
   "metadata": {},
   "outputs": [],
   "source": [
    "from sklearn.preprocessing import StandardScaler\n",
    "scaler = StandardScaler()\n",
    "X_train = scaler.fit_transform(X_train)\n",
    "X_test = scaler.transform(X_test)\n"
   ]
  },
  {
   "cell_type": "code",
   "execution_count": 22,
   "metadata": {},
   "outputs": [
    {
     "name": "stdout",
     "output_type": "stream",
     "text": [
      "_________________________________________________________________\n",
      "Layer (type)                 Output Shape              Param #   \n",
      "=================================================================\n",
      "input_2 (InputLayer)         (None, 12)                0         \n",
      "_________________________________________________________________\n",
      "dense_3 (Dense)              (None, 2)                 26        \n",
      "_________________________________________________________________\n",
      "dense_4 (Dense)              (None, 20)                60        \n",
      "_________________________________________________________________\n",
      "dense_5 (Dense)              (None, 2)                 42        \n",
      "=================================================================\n",
      "Total params: 128\n",
      "Trainable params: 128\n",
      "Non-trainable params: 0\n",
      "_________________________________________________________________\n"
     ]
    }
   ],
   "source": [
    "inputs = Input(shape=(X_train.shape[1], )) # placeholder\n",
    "\n",
    "hidden = Dense(2, activation='relu')(inputs)\n",
    "#hidden = Dropout(0.2)(hidden)\n",
    "hidden = Dense(20, activation='relu')(hidden)\n",
    "#hidden = Dropout(0.2)(hidden)\n",
    "#hidden = Dense(30, activation='relu')(hidden)\n",
    "#hidden = Dropout(0.2)(hidden)\n",
    "outputs = Dense(2, activation='sigmoid')(hidden)\n",
    "# last layer has to have the same dimensionality as the number of classes we want to predict, here 3\n",
    "\n",
    "model = Model(inputs, outputs)\n",
    "model.summary()\n",
    "plot_model(model, 'temp.png', show_shapes=True)"
   ]
  },
  {
   "cell_type": "code",
   "execution_count": 23,
   "metadata": {},
   "outputs": [],
   "source": [
    "model.compile('adam', 'sparse_categorical_crossentropy')"
   ]
  },
  {
   "cell_type": "code",
   "execution_count": 24,
   "metadata": {},
   "outputs": [
    {
     "data": {
      "text/plain": [
       "Counter({1: 21425, 0: 14584})"
      ]
     },
     "execution_count": 24,
     "metadata": {},
     "output_type": "execute_result"
    }
   ],
   "source": [
    "from collections import Counter\n",
    "Counter(y_test)"
   ]
  },
  {
   "cell_type": "code",
   "execution_count": 34,
   "metadata": {},
   "outputs": [
    {
     "name": "stdout",
     "output_type": "stream",
     "text": [
      "Training:\n",
      "\n",
      "Epoch 00001: val_loss improved from inf to 0.43037, saving model to ./tutorial-progress.h5\n",
      "\n",
      "Epoch 00002: val_loss improved from 0.43037 to 0.43008, saving model to ./tutorial-progress.h5\n",
      "\n",
      "Epoch 00003: val_loss did not improve from 0.43008\n",
      "\n",
      "Epoch 00004: val_loss did not improve from 0.43008\n",
      "\n",
      "Epoch 00005: val_loss did not improve from 0.43008\n",
      "\n",
      "Epoch 00006: val_loss did not improve from 0.43008\n",
      "\n",
      "Epoch 00007: val_loss did not improve from 0.43008\n",
      "\n",
      "Epoch 00008: val_loss did not improve from 0.43008\n",
      "\n",
      "Epoch 00009: val_loss improved from 0.43008 to 0.42950, saving model to ./tutorial-progress.h5\n",
      "\n",
      "Epoch 00010: val_loss did not improve from 0.42950\n",
      "\n",
      "Epoch 00011: val_loss did not improve from 0.42950\n",
      "\n",
      "Epoch 00012: val_loss did not improve from 0.42950\n",
      "\n",
      "Epoch 00013: val_loss did not improve from 0.42950\n",
      "\n",
      "Epoch 00014: val_loss did not improve from 0.42950\n",
      "\n",
      "Epoch 00015: val_loss did not improve from 0.42950\n",
      "\n",
      "Epoch 00016: val_loss did not improve from 0.42950\n",
      "\n",
      "Epoch 00017: val_loss did not improve from 0.42950\n",
      "\n",
      "Epoch 00018: val_loss did not improve from 0.42950\n",
      "\n",
      "Epoch 00019: val_loss did not improve from 0.42950\n",
      "\n",
      "Epoch 00020: val_loss did not improve from 0.42950\n",
      "\n",
      "Epoch 00021: val_loss did not improve from 0.42950\n",
      "\n",
      "Epoch 00022: val_loss did not improve from 0.42950\n",
      "\n",
      "Epoch 00023: val_loss did not improve from 0.42950\n",
      "\n",
      "Epoch 00024: val_loss did not improve from 0.42950\n",
      "\n",
      "Epoch 00025: val_loss did not improve from 0.42950\n",
      "\n",
      "Epoch 00026: val_loss did not improve from 0.42950\n",
      "\n",
      "Epoch 00027: val_loss did not improve from 0.42950\n",
      "\n",
      "Epoch 00028: val_loss did not improve from 0.42950\n",
      "\n",
      "Epoch 00029: val_loss did not improve from 0.42950\n",
      "Epoch 00029: early stopping\n"
     ]
    }
   ],
   "source": [
    "print ('Training:')\n",
    "try:\n",
    "    model.fit(\n",
    "        X_train, y_train, \n",
    "        #class_weight={ # rebalance class representation\n",
    "         #   0 : 0.40 * (float(len(y)) / (y == 0).sum()),\n",
    "          #  1 : 0.60 * (float(len(y)) / (y == 1).sum()), },\n",
    "        callbacks = [\n",
    "            EarlyStopping(verbose=True, patience=20, monitor='val_loss'),\n",
    "            ModelCheckpoint('./tutorial-progress.h5', monitor='val_loss', verbose=True, save_best_only=True)\n",
    "        ],\n",
    "        epochs=10000, \n",
    "        validation_split = 0.4,\n",
    "        verbose=False)\n",
    "except KeyboardInterrupt:\n",
    "    print('Training ended early.')"
   ]
  },
  {
   "cell_type": "code",
   "execution_count": 35,
   "metadata": {},
   "outputs": [
    {
     "name": "stdout",
     "output_type": "stream",
     "text": [
      "Saving model...\n",
      "Done\n"
     ]
    }
   ],
   "source": [
    "# -- load in best network\n",
    "model.load_weights('./tutorial-progress.h5')\n",
    "# -- Save network weights and structure\n",
    "print( 'Saving model...')\n",
    "model.save_weights('./tutorial.h5', overwrite=True)\n",
    "json_string = model.to_json()\n",
    "open('./tutorial.json', 'w').write(json_string)\n",
    "print ('Done')"
   ]
  },
  {
   "cell_type": "code",
   "execution_count": 36,
   "metadata": {},
   "outputs": [
    {
     "name": "stdout",
     "output_type": "stream",
     "text": [
      "Testing...\n",
      "36009/36009 [==============================] - 0s 2us/step\n"
     ]
    }
   ],
   "source": [
    "print ('Testing...')\n",
    "yhat = model.predict(X_test, verbose = True, batch_size = 400)"
   ]
  },
  {
   "cell_type": "code",
   "execution_count": 37,
   "metadata": {},
   "outputs": [
    {
     "data": {
      "text/plain": [
       "36009"
      ]
     },
     "execution_count": 37,
     "metadata": {},
     "output_type": "execute_result"
    }
   ],
   "source": [
    "len(yhat)"
   ]
  },
  {
   "cell_type": "code",
   "execution_count": 38,
   "metadata": {},
   "outputs": [],
   "source": [
    "a = np.linspace(0,1,100)\n",
    "#print(a)\n",
    "sig_eff = []\n",
    "b_rej = []\n",
    "yhat_cls_1=[]\n",
    "for j in a:\n",
    "    for i in range(0, 36009):\n",
    "        \n",
    "        if yhat[i][0]>j:\n",
    "            yhat_cls_1.append(0)\n",
    "        else:\n",
    "            yhat_cls_1.append(1)\n",
    "    yhat_cls = np.array(yhat_cls_1)\n",
    "    yhat_cls_1.clear()\n",
    "    #print(w_test[(y_test == 0) & (yhat_cls == 0)].sum() / w_test[y_test == 0].sum())\n",
    "    #print(1- w_test[(y_test == 1) & (yhat_cls == 0)].sum() / w_test[y_test == 1].sum())\n",
    "    sig_eff.append(w_test[(y_test == 0) & (yhat_cls == 0)].sum() / w_test[y_test == 0].sum())\n",
    "    # bkg eff = weighted fpr --> out of all bkg events, what % do we classify as signal?\n",
    "    b_rej.append(1 - w_test[(y_test == 1) & (yhat_cls == 0)].sum() / w_test[y_test == 1].sum())"
   ]
  },
  {
   "cell_type": "code",
   "execution_count": 39,
   "metadata": {},
   "outputs": [
    {
     "data": {
      "image/png": "[encoded data removed]",
      "text/plain": [
       "<Figure size 432x288 with 1 Axes>"
      ]
     },
     "metadata": {
      "needs_background": "light"
     },
     "output_type": "display_data"
    }
   ],
   "source": [
    "df_sig['ME_disc_0j'] = np.log10(df_sig['ggHZZ_ME_0j']/(df_sig['ggZZ_ME_0j']+0.1*df_sig['qqZZ_ME_0j']))\n",
    "df_bkg2['ME_disc_0j'] = np.log10(df_bkg2['ggHZZ_ME_0j']/(df_bkg2['ggZZ_ME_0j']+0.1*df_bkg2['qqZZ_ME_0j']))\n",
    "(n_sig, bins_sig, patches_sig) = plt.hist(df_sig['ME_disc_0j'],range=(-5, 0), bins=30, label='hst', weights=df_sig['weight'])\n",
    "(n_bkg, bins_bkg, patches_bkg) = plt.hist(df_bkg2['ME_disc_0j'], range=(-5, 0), bins=30, label='hst', weights=df_bkg2['weight'])\n",
    "a = np.linspace(-5, 0, 30)\n",
    "sig_eff_old = []\n",
    "bkg_rej_old = []\n",
    "total_sig=0\n",
    "total_bkg=0\n",
    "for sig in n_sig:\n",
    "    total_sig = total_sig+sig\n",
    "for bkg in n_bkg:\n",
    "    total_bkg = total_bkg+bkg\n",
    "\n",
    "for j in a:\n",
    "    TP=0\n",
    "    FP =0\n",
    "    for i in range(0, 30):\n",
    "        if bins_sig[i]>j:\n",
    "            TP=TP+n_sig[i]\n",
    "            FP=FP+n_bkg[i]\n",
    "    sig_eff_old.append(TP/total_sig)\n",
    "    bkg_rej_old.append(1-(FP/total_bkg))\n",
    "    "
   ]
  },
  {
   "cell_type": "code",
   "execution_count": 40,
   "metadata": {},
   "outputs": [
    {
     "data": {
      "image/png": "[encoded data removed]",
      "text/plain": [
       "<Figure size 432x288 with 1 Axes>"
      ]
     },
     "metadata": {
      "needs_background": "light"
     },
     "output_type": "display_data"
    }
   ],
   "source": [
    "plt.figure()\n",
    "plt.title('ROC Curve')\n",
    "plt.plot(sig_eff, b_rej,  label = 'NN discriminant')\n",
    "plt.plot(sig_eff_old, bkg_rej_old, label ='0 jet ME Disc')\n",
    "plt.legend(loc = 'lower left')\n",
    "\n",
    "plt.xlim([0.7, 1])\n",
    "plt.ylim([0, 1.05])\n",
    "plt.ylabel('bkg rejection')\n",
    "plt.xlabel('sig efficiency')\n",
    "plt.show()"
   ]
  },
  {
   "cell_type": "code",
   "execution_count": null,
   "metadata": {},
   "outputs": [],
   "source": []
  }
 ],
 "metadata": {
  "kernelspec": {
   "display_name": "py3-w-ROOT",
   "language": "python",
   "name": "slac_stack"
  },
  "language_info": {
   "codemirror_mode": {
    "name": "ipython",
    "version": 3
   },
   "file_extension": ".py",
   "mimetype": "text/x-python",
   "name": "python",
   "nbconvert_exporter": "python",
   "pygments_lexer": "ipython3",
   "version": "3.6.3"
  }
 },
 "nbformat": 4,
 "nbformat_minor": 2
}
