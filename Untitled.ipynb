{
 "cells": [
  {
   "cell_type": "code",
   "execution_count": null,
   "metadata": {},
   "outputs": [],
   "source": [
    "yhat_cls_1=[]\n",
    "for i in range(0, 9143):\n",
    "    if yhat[i][0]>0.5:\n",
    "        yhat_cls_1.append(0)\n",
    "    else:\n",
    "        yhat_cls_1.append(1)\n",
    "yhat_cls = np.array(yhat_cls_1)\n",
    "yhat_cls\n",
    "\n",
    "#yhat_cls = np.argmax(yhat, axis=1)\n",
    "#print(w_test[(y_test == 0) & (yhat_cls == 0)].sum() / w_test[y_test == 0].sum())\n",
    "#print(w_test[(y_test == 1) & (yhat_cls == 0)].sum() / w_test[y_test == 1].sum())\n",
    "print('signal eff:', w_test[(y_test == 0) & (yhat_cls == 0)].sum() / w_test[y_test == 0].sum())\n",
    "print('bkg eff:', w_test[(y_test == 1) & (yhat_cls == 0)].sum() / w_test[y_test == 1].sum())\n",
    "print('bkg rej:',1 - w_test[(y_test == 1) & (yhat_cls == 0)].sum() / w_test[y_test == 1].sum())\n",
    "\n",
    "yhat_cls = np.argmax(yhat>0.65, axis=1)\n",
    "yhat_cls\n",
    "\n",
    "# signal eff = weighted tpr --> out of all signal events, what % for we classify as signal?\n",
    "print ('Signal efficiency:', w_test[(y_test == 0) & (yhat_cls == 0)].sum() / w_test[y_test == 0].sum())\n",
    "\n",
    "# bkg eff = weighted fpr --> out of all bkg events, what % do we classify as signal?\n",
    "b_eff = w_test[(y_test != 0) & (yhat_cls == 0)].sum() / w_test[y_test != 0].sum()\n",
    "print ('Background efficiency:', b_eff )\n",
    "print ('Background rej:', 1 / b_eff)"
   ]
  }
 ],
 "metadata": {
  "kernelspec": {
   "display_name": "py3-w-ROOT",
   "language": "python",
   "name": "slac_stack"
  },
  "language_info": {
   "codemirror_mode": {
    "name": "ipython",
    "version": 3
   },
   "file_extension": ".py",
   "mimetype": "text/x-python",
   "name": "python",
   "nbconvert_exporter": "python",
   "pygments_lexer": "ipython3",
   "version": "3.6.3"
  }
 },
 "nbformat": 4,
 "nbformat_minor": 2
}
